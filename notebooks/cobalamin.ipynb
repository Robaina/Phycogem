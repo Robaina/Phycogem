{
 "cells": [
  {
   "cell_type": "markdown",
   "metadata": {},
   "source": [
    "# Cobalamin metabolism in PS00212, iTps1432, and iML1515"
   ]
  },
  {
   "cell_type": "code",
   "execution_count": 121,
   "metadata": {},
   "outputs": [],
   "source": [
    "import cobra\n",
    "\n",
    "\n",
    "def open_inorganic_exchanges(\n",
    "        model: cobra.Model,\n",
    "        lower_bound: float = -1000,\n",
    "        upper_bound: float = 1000,\n",
    "        include: list = None,\n",
    "        inplace: bool = True) -> cobra.Model:\n",
    "    \"\"\"\n",
    "    Open all inorganic exchanges in a model and close organic exchanges,\n",
    "    except for indicated ones.\n",
    "\n",
    "    Parameters\n",
    "    ----------\n",
    "    model : cobra.Model\n",
    "        Model to open exchanges in.\n",
    "    include: list, optional\n",
    "        List of exchange IDs to be opened besides inorganic ones. Default is None.\n",
    "    inplace : bool, optional\n",
    "        If True, open exchanges in place. If False, return a copy of the model with opened\n",
    "        exchanges. Default is True.\n",
    "\n",
    "    Returns\n",
    "    -------\n",
    "    cobra.Model\n",
    "        Model with opened exchanges.\n",
    "    \"\"\"\n",
    "    if inplace:\n",
    "        model = model\n",
    "    else:\n",
    "        model = model.copy()\n",
    "\n",
    "    for rxn in model.exchanges:\n",
    "        met = [met for met in rxn.metabolites][0]\n",
    "        if (met.formula is not None) and (\"C\" not in met.formula):\n",
    "            rxn.lower_bound = lower_bound\n",
    "            rxn.upper_bound = upper_bound\n",
    "        else:\n",
    "            rxn.lower_bound = 0\n",
    "\n",
    "    return model\n",
    "\n",
    "\n",
    "iML1515 = cobra.io.read_sbml_model(\"iML1515.xml\")\n",
    "ps00212 =  cobra.io.read_sbml_model(\"gems/MAG_00212_pseudonitzschia_photoeuk.xml\")\n",
    "iTPS1432 = cobra.io.read_sbml_model(\"iTps1432_high.xml\")\n",
    "\n",
    "# cobalamin\n",
    "methylcbl_00212 = ps00212.metabolites.get_by_id(\"C06453_c\")\n",
    "cbl_00212 = ps00212.metabolites.get_by_id(\"cbl1_c\")\n",
    "\n",
    "# cobalamin-dependent methionine synthase\n",
    "meth_00212_a = ps00212.reactions.get_by_id(\"RXN-21539\")\n",
    "meth_00212_b = ps00212.reactions.get_by_id(\"HOMOCYSMETB12-RXN\")\n",
    "\n",
    "meth_itps_a = iTPS1432.reactions.get_by_id(\"METS1_B12_c\")\n",
    "meth_itps_b = iTPS1432.reactions.get_by_id(\"METS2_B12_c\")\n",
    "\n",
    "# cobalamin-independent methionine synthase (iML1515)\n",
    "mete_iml1515 = iML1515.reactions.get_by_id(\"METS\")"
   ]
  },
  {
   "cell_type": "markdown",
   "metadata": {},
   "source": [
    "## Methionine synthase\n",
    "\n",
    "It looks like ps00212 is fails at capturing the importance of MetH. Since growth is not affected by bocking it. Methionine is synthesized by a number of other reactions. However, in iML1515, MetE is still required for growth. Why this doesn't happen in ps00212 (MetH) is unclear. Perhaps due to a leak in tetrahydrofolate?"
   ]
  },
  {
   "cell_type": "markdown",
   "metadata": {},
   "source": [
    "### iML1515"
   ]
  },
  {
   "cell_type": "code",
   "execution_count": 8,
   "metadata": {},
   "outputs": [
    {
     "data": {
      "text/html": [
       "\n",
       "        <table>\n",
       "            <tr>\n",
       "                <td><strong>Reaction identifier</strong></td><td>METS</td>\n",
       "            </tr><tr>\n",
       "                <td><strong>Name</strong></td><td>Methionine synthase</td>\n",
       "            </tr><tr>\n",
       "                <td><strong>Memory address</strong></td>\n",
       "                <td>0x7f9f39358b50</td>\n",
       "            </tr><tr>\n",
       "                <td><strong>Stoichiometry</strong></td>\n",
       "                <td>\n",
       "                    <p style='text-align:right'>5mthf_c + hcys__L_c --> h_c + met__L_c + thf_c</p>\n",
       "                    <p style='text-align:right'>5-Methyltetrahydrofolate + L-Homocysteine --> H+ + L-Methionine + 5,6,7,8-Tetrahydrofolate</p>\n",
       "                </td>\n",
       "            </tr><tr>\n",
       "                <td><strong>GPR</strong></td><td>b4019 or b3829</td>\n",
       "            </tr><tr>\n",
       "                <td><strong>Lower bound</strong></td><td>0.0</td>\n",
       "            </tr><tr>\n",
       "                <td><strong>Upper bound</strong></td><td>0</td>\n",
       "            </tr>\n",
       "        </table>\n",
       "        "
      ],
      "text/plain": [
       "<Reaction METS at 0x7f9f39358b50>"
      ]
     },
     "execution_count": 8,
     "metadata": {},
     "output_type": "execute_result"
    }
   ],
   "source": [
    "mete_iml1515"
   ]
  },
  {
   "cell_type": "code",
   "execution_count": 53,
   "metadata": {},
   "outputs": [
    {
     "data": {
      "text/html": [
       "<strong><em>Optimal</em> solution with objective value 0.877</strong><br><div>\n",
       "<style scoped>\n",
       "    .dataframe tbody tr th:only-of-type {\n",
       "        vertical-align: middle;\n",
       "    }\n",
       "\n",
       "    .dataframe tbody tr th {\n",
       "        vertical-align: top;\n",
       "    }\n",
       "\n",
       "    .dataframe thead th {\n",
       "        text-align: right;\n",
       "    }\n",
       "</style>\n",
       "<table border=\"1\" class=\"dataframe\">\n",
       "  <thead>\n",
       "    <tr style=\"text-align: right;\">\n",
       "      <th></th>\n",
       "      <th>fluxes</th>\n",
       "      <th>reduced_costs</th>\n",
       "    </tr>\n",
       "  </thead>\n",
       "  <tbody>\n",
       "    <tr>\n",
       "      <th>CYTDK2</th>\n",
       "      <td>0.00000</td>\n",
       "      <td>-6.938894e-18</td>\n",
       "    </tr>\n",
       "    <tr>\n",
       "      <th>XPPT</th>\n",
       "      <td>0.00000</td>\n",
       "      <td>-7.523353e-03</td>\n",
       "    </tr>\n",
       "    <tr>\n",
       "      <th>HXPRT</th>\n",
       "      <td>0.00000</td>\n",
       "      <td>-7.523353e-03</td>\n",
       "    </tr>\n",
       "    <tr>\n",
       "      <th>NDPK5</th>\n",
       "      <td>0.00000</td>\n",
       "      <td>-0.000000e+00</td>\n",
       "    </tr>\n",
       "    <tr>\n",
       "      <th>SHK3Dr</th>\n",
       "      <td>0.33424</td>\n",
       "      <td>0.000000e+00</td>\n",
       "    </tr>\n",
       "    <tr>\n",
       "      <th>...</th>\n",
       "      <td>...</td>\n",
       "      <td>...</td>\n",
       "    </tr>\n",
       "    <tr>\n",
       "      <th>MPTS</th>\n",
       "      <td>0.00000</td>\n",
       "      <td>-2.775558e-17</td>\n",
       "    </tr>\n",
       "    <tr>\n",
       "      <th>MOCOS</th>\n",
       "      <td>0.00000</td>\n",
       "      <td>0.000000e+00</td>\n",
       "    </tr>\n",
       "    <tr>\n",
       "      <th>BMOGDS2</th>\n",
       "      <td>0.00000</td>\n",
       "      <td>0.000000e+00</td>\n",
       "    </tr>\n",
       "    <tr>\n",
       "      <th>FESD2s</th>\n",
       "      <td>0.00000</td>\n",
       "      <td>0.000000e+00</td>\n",
       "    </tr>\n",
       "    <tr>\n",
       "      <th>OCTNLL</th>\n",
       "      <td>0.00000</td>\n",
       "      <td>-1.504671e-02</td>\n",
       "    </tr>\n",
       "  </tbody>\n",
       "</table>\n",
       "<p>2712 rows × 2 columns</p>\n",
       "</div>"
      ],
      "text/plain": [
       "<Solution 0.877 at 0x7f021c64ac90>"
      ]
     },
     "execution_count": 53,
     "metadata": {},
     "output_type": "execute_result"
    }
   ],
   "source": [
    "mete_iml1515.upper_bound = 1000\n",
    "iML1515.optimize()"
   ]
  },
  {
   "cell_type": "markdown",
   "metadata": {},
   "source": [
    "What other reactions produce met__L_c in iML1515?"
   ]
  },
  {
   "cell_type": "code",
   "execution_count": 54,
   "metadata": {},
   "outputs": [
    {
     "data": {
      "text/plain": [
       "[('HCYSMT', 'Homocysteine S-methyltransferase', 0.0, 1000.0, 0.0),\n",
       " ('METS', 'Methionine synthase', 0.0, 1000, 0.13537241302173342),\n",
       " ('METSOXR1', 'L-methionine-S-oxide reductase', 0.0, 1000.0, 0.0),\n",
       " ('METSOXR2', 'L-methionine-R-sulfoxide reductase', 0.0, 1000.0, 0.0),\n",
       " ('METabcpp',\n",
       "  'L-methionine transport via ABC system (periplasm)',\n",
       "  0.0,\n",
       "  1000.0,\n",
       "  0.0),\n",
       " ('HCYSMT2', 'Homocysteine Methyltransferase', 0.0, 1000.0, 0.0),\n",
       " ('CPPPGO2',\n",
       "  'Oxygen Independent coproporphyrinogen-III oxidase',\n",
       "  0.0,\n",
       "  1000.0,\n",
       "  0.0),\n",
       " ('BTS5', 'Biotin synthase', 0.0, 1000.0, 1.7539944288539496e-06),\n",
       " ('LIPOS', 'Lipoate synthase', 0.0, 1000.0, 0.0),\n",
       " ('TYRL', 'Tyrosine lyase', 0.0, 1000.0, 0.0001955703788172154)]"
      ]
     },
     "execution_count": 54,
     "metadata": {},
     "output_type": "execute_result"
    }
   ],
   "source": [
    "[\n",
    "    (rxn.id, rxn.name, rxn.lower_bound, rxn.upper_bound, rxn.flux)\n",
    "    for rxn in iML1515.reactions\n",
    "    if (\"met__L_c\" in [met.id for met in rxn.products])\n",
    "    ]"
   ]
  },
  {
   "cell_type": "markdown",
   "metadata": {},
   "source": [
    "### ps00212"
   ]
  },
  {
   "cell_type": "code",
   "execution_count": 4,
   "metadata": {},
   "outputs": [
    {
     "data": {
      "text/html": [
       "\n",
       "        <table>\n",
       "            <tr>\n",
       "                <td><strong>Reaction identifier</strong></td><td>RXN-21539</td>\n",
       "            </tr><tr>\n",
       "                <td><strong>Name</strong></td><td>cobalamin-dependent methionine synthase</td>\n",
       "            </tr><tr>\n",
       "                <td><strong>Memory address</strong></td>\n",
       "                <td>0x7f9f366b43d0</td>\n",
       "            </tr><tr>\n",
       "                <td><strong>Stoichiometry</strong></td>\n",
       "                <td>\n",
       "                    <p style='text-align:right'>5-METHYL-THF-GLU-N_c + cbl1_c --> C06453_c + THF-GLU-N_c</p>\n",
       "                    <p style='text-align:right'>a 5-methyltetrahydrofolate + cbl1 --> Methylcobalamin + a tetrahydrofolate</p>\n",
       "                </td>\n",
       "            </tr><tr>\n",
       "                <td><strong>GPR</strong></td><td>TARA_ARC_108_MAG_00212_000000004337_12_1</td>\n",
       "            </tr><tr>\n",
       "                <td><strong>Lower bound</strong></td><td>0.0</td>\n",
       "            </tr><tr>\n",
       "                <td><strong>Upper bound</strong></td><td>0</td>\n",
       "            </tr>\n",
       "        </table>\n",
       "        "
      ],
      "text/plain": [
       "<Reaction RXN-21539 at 0x7f9f366b43d0>"
      ]
     },
     "execution_count": 4,
     "metadata": {},
     "output_type": "execute_result"
    }
   ],
   "source": [
    "meth_00212_a"
   ]
  },
  {
   "cell_type": "code",
   "execution_count": 5,
   "metadata": {},
   "outputs": [
    {
     "data": {
      "text/html": [
       "\n",
       "        <table>\n",
       "            <tr>\n",
       "                <td><strong>Reaction identifier</strong></td><td>HOMOCYSMETB12-RXN</td>\n",
       "            </tr><tr>\n",
       "                <td><strong>Name</strong></td><td>methionine synthase</td>\n",
       "            </tr><tr>\n",
       "                <td><strong>Memory address</strong></td>\n",
       "                <td>0x7f9f36796a10</td>\n",
       "            </tr><tr>\n",
       "                <td><strong>Stoichiometry</strong></td>\n",
       "                <td>\n",
       "                    <p style='text-align:right'>C06453_c + hcys__L_c --> cbl1_c + 4.0 h_c + met__L_c</p>\n",
       "                    <p style='text-align:right'>Methylcobalamin + L-Homocysteine --> cbl1 + 4.0 H+ + L-Methionine</p>\n",
       "                </td>\n",
       "            </tr><tr>\n",
       "                <td><strong>GPR</strong></td><td>TARA_ARC_108_MAG_00212_000000004337_12_1</td>\n",
       "            </tr><tr>\n",
       "                <td><strong>Lower bound</strong></td><td>0.0</td>\n",
       "            </tr><tr>\n",
       "                <td><strong>Upper bound</strong></td><td>0</td>\n",
       "            </tr>\n",
       "        </table>\n",
       "        "
      ],
      "text/plain": [
       "<Reaction HOMOCYSMETB12-RXN at 0x7f9f36796a10>"
      ]
     },
     "execution_count": 5,
     "metadata": {},
     "output_type": "execute_result"
    }
   ],
   "source": [
    "meth_00212_b"
   ]
  },
  {
   "cell_type": "code",
   "execution_count": 111,
   "metadata": {},
   "outputs": [
    {
     "data": {
      "text/html": [
       "<strong><em>Optimal</em> solution with objective value 33.330</strong><br><div>\n",
       "<style scoped>\n",
       "    .dataframe tbody tr th:only-of-type {\n",
       "        vertical-align: middle;\n",
       "    }\n",
       "\n",
       "    .dataframe tbody tr th {\n",
       "        vertical-align: top;\n",
       "    }\n",
       "\n",
       "    .dataframe thead th {\n",
       "        text-align: right;\n",
       "    }\n",
       "</style>\n",
       "<table border=\"1\" class=\"dataframe\">\n",
       "  <thead>\n",
       "    <tr style=\"text-align: right;\">\n",
       "      <th></th>\n",
       "      <th>fluxes</th>\n",
       "      <th>reduced_costs</th>\n",
       "    </tr>\n",
       "  </thead>\n",
       "  <tbody>\n",
       "    <tr>\n",
       "      <th>ATPCS_c</th>\n",
       "      <td>0.000000e+00</td>\n",
       "      <td>0.0</td>\n",
       "    </tr>\n",
       "    <tr>\n",
       "      <th>CISY_m</th>\n",
       "      <td>0.000000e+00</td>\n",
       "      <td>0.0</td>\n",
       "    </tr>\n",
       "    <tr>\n",
       "      <th>PDH_E1a_h</th>\n",
       "      <td>0.000000e+00</td>\n",
       "      <td>0.0</td>\n",
       "    </tr>\n",
       "    <tr>\n",
       "      <th>ADH_c</th>\n",
       "      <td>0.000000e+00</td>\n",
       "      <td>0.0</td>\n",
       "    </tr>\n",
       "    <tr>\n",
       "      <th>GAPDH_h</th>\n",
       "      <td>0.000000e+00</td>\n",
       "      <td>0.0</td>\n",
       "    </tr>\n",
       "    <tr>\n",
       "      <th>...</th>\n",
       "      <td>...</td>\n",
       "      <td>...</td>\n",
       "    </tr>\n",
       "    <tr>\n",
       "      <th>PREPHENATEDEHYDRAT-RXN</th>\n",
       "      <td>0.000000e+00</td>\n",
       "      <td>0.0</td>\n",
       "    </tr>\n",
       "    <tr>\n",
       "      <th>EX_cbl1_e</th>\n",
       "      <td>-3.422730e-07</td>\n",
       "      <td>-0.0</td>\n",
       "    </tr>\n",
       "    <tr>\n",
       "      <th>EX_adocbl_e</th>\n",
       "      <td>0.000000e+00</td>\n",
       "      <td>-0.0</td>\n",
       "    </tr>\n",
       "    <tr>\n",
       "      <th>cbl1_transport</th>\n",
       "      <td>3.422730e-07</td>\n",
       "      <td>0.0</td>\n",
       "    </tr>\n",
       "    <tr>\n",
       "      <th>cbl_interconversion_e</th>\n",
       "      <td>0.000000e+00</td>\n",
       "      <td>0.0</td>\n",
       "    </tr>\n",
       "  </tbody>\n",
       "</table>\n",
       "<p>4767 rows × 2 columns</p>\n",
       "</div>"
      ],
      "text/plain": [
       "<Solution 33.330 at 0x7fa3b06ee250>"
      ]
     },
     "execution_count": 111,
     "metadata": {},
     "output_type": "execute_result"
    }
   ],
   "source": [
    "# MetH\n",
    "meth_00212_a.upper_bound = 1000\n",
    "meth_00212_b.upper_bound = 1000\n",
    "ps00212.reactions.get_by_id('EX_met__L_e').lower_bound = 0\n",
    "\n",
    "ps00212.optimize()"
   ]
  },
  {
   "cell_type": "code",
   "execution_count": 61,
   "metadata": {},
   "outputs": [
    {
     "data": {
      "text/plain": [
       "[('AMPMS_h',\n",
       "  '4-amino-2-methyl-5-phosphomethylpyrimidine synthetase',\n",
       "  0.0,\n",
       "  1000.0,\n",
       "  0.0),\n",
       " ('BTS_m', 'Biotin synthase', 0.0, 1000.0, 0.0),\n",
       " ('UNK3', '2-keto-4-methylthiobutyrate transamination', -1000.0, 1000.0, 0.0),\n",
       " ('BHMT',\n",
       "  'Betaine-homocysteine S-methyltransferase',\n",
       "  0.0,\n",
       "  1000.0,\n",
       "  3.9757413773623007),\n",
       " ('CPPPGO2', 'CPPPGO2', 0.0, 1000.0, 0.0),\n",
       " ('HOMOCYSMET-RXN',\n",
       "  '5-methyltetrahydropteroyltriglutamate-homocysteine S-methyltransferase',\n",
       "  -1000.0,\n",
       "  1000.0,\n",
       "  0.0),\n",
       " ('HOMOCYSMETB12-RXN', 'methionine synthase', 0.0, 1000, 0.0),\n",
       " ('RXN0-5063', 'isopentenyl-adenosine tRNA methylthiolase', 0.0, 1000.0, 0.0),\n",
       " ('METt2r', 'METt2r', 0.0, 1000.0, 0.0),\n",
       " ('ORNITHINE--OXO-ACID-AMINOTRANSFERASE-RXN-L-ORNITHINE/CPD-479//MET/L-GLUTAMATE_GAMMA-SEMIALDEHYDE.56.',\n",
       "  'ORNITHINE--OXO-ACID-AMINOTRANSFERASE-RXN-L-ORNITHINE/CPD-479//MET/L-GLUTAMATE_GAMMA-SEMIALDEHYDE.56.',\n",
       "  -1000.0,\n",
       "  1000.0,\n",
       "  6.917100408379479),\n",
       " ('TRANS-RXN18ZY-5-MET/NA+//MET/NA+.17.',\n",
       "  'TRANS-RXN18ZY-5-MET/NA+//MET/NA+.17.',\n",
       "  -10.0,\n",
       "  1000.0,\n",
       "  0.0),\n",
       " ('O-ACETYLHOMOSERINE-THIOL-LYASE-RXN',\n",
       "  'methionine synthase (B12-dependent) (EC 2.1.1.13)',\n",
       "  0.0,\n",
       "  1000.0,\n",
       "  0.0),\n",
       " ('METSm',\n",
       "  '5_methyltetrahydrofolate_homocysteine methyltransferase',\n",
       "  -1000.0,\n",
       "  1000.0,\n",
       "  0.0)]"
      ]
     },
     "execution_count": 61,
     "metadata": {},
     "output_type": "execute_result"
    }
   ],
   "source": [
    "[\n",
    "    (rxn.id, rxn.name, rxn.lower_bound, rxn.upper_bound, rxn.flux)\n",
    "    for rxn in ps00212.reactions\n",
    "    if (\"met__L_c\" in [met.id for met in rxn.products])\n",
    "    ]"
   ]
  },
  {
   "cell_type": "markdown",
   "metadata": {},
   "source": [
    "Alright, so these two reactions are producing all met__L_c:\n",
    "\n",
    "* ORNITHINE--OXO-ACID-AMINOTRANSFERASE-RXN-L-ORNITHINE/CPD-479//MET/L-GLUTAMATE_GAMMA-SEMIALDEHYDE.56.\n",
    "* TRANS-RXN18ZY-5-MET/NA+//MET/NA+.17. (Import met__L_c)\n",
    "\n",
    "When import blocked:\n",
    "* BHMT\n"
   ]
  },
  {
   "cell_type": "code",
   "execution_count": 58,
   "metadata": {},
   "outputs": [
    {
     "data": {
      "text/html": [
       "\n",
       "        <table>\n",
       "            <tr>\n",
       "                <td><strong>Reaction identifier</strong></td><td>ORNITHINE--OXO-ACID-AMINOTRANSFERASE-RXN-L-ORNITHINE/CPD-479//MET/L-GLUTAMATE_GAMMA-SEMIALDEHYDE.56.</td>\n",
       "            </tr><tr>\n",
       "                <td><strong>Name</strong></td><td>ORNITHINE--OXO-ACID-AMINOTRANSFERASE-RXN-L-ORNITHINE/CPD-479//MET/L-GLUTAMATE_GAMMA-SEMIALDEHYDE.56.</td>\n",
       "            </tr><tr>\n",
       "                <td><strong>Memory address</strong></td>\n",
       "                <td>0x7f02270bd3d0</td>\n",
       "            </tr><tr>\n",
       "                <td><strong>Stoichiometry</strong></td>\n",
       "                <td>\n",
       "                    <p style='text-align:right'>2kmb_c + orn_c <=> glu5sa_c + met__L_c</p>\n",
       "                    <p style='text-align:right'>4-Methylthio-2-oxobutanoic acid + Ornithine <=> L-Glutamate 5-semialdehyde + L-Methionine</p>\n",
       "                </td>\n",
       "            </tr><tr>\n",
       "                <td><strong>GPR</strong></td><td>TARA_ARC_108_MAG_00212_000000002402_1_2 or TARA_ARC_108_MAG_00212_000000004614_7_2</td>\n",
       "            </tr><tr>\n",
       "                <td><strong>Lower bound</strong></td><td>-1000.0</td>\n",
       "            </tr><tr>\n",
       "                <td><strong>Upper bound</strong></td><td>1000.0</td>\n",
       "            </tr>\n",
       "        </table>\n",
       "        "
      ],
      "text/plain": [
       "<Reaction ORNITHINE--OXO-ACID-AMINOTRANSFERASE-RXN-L-ORNITHINE/CPD-479//MET/L-GLUTAMATE_GAMMA-SEMIALDEHYDE.56. at 0x7f02270bd3d0>"
      ]
     },
     "execution_count": 58,
     "metadata": {},
     "output_type": "execute_result"
    }
   ],
   "source": [
    "ps00212.reactions.get_by_id(\"ORNITHINE--OXO-ACID-AMINOTRANSFERASE-RXN-L-ORNITHINE/CPD-479//MET/L-GLUTAMATE_GAMMA-SEMIALDEHYDE.56.\")"
   ]
  },
  {
   "cell_type": "code",
   "execution_count": 59,
   "metadata": {},
   "outputs": [
    {
     "data": {
      "text/html": [
       "\n",
       "        <table>\n",
       "            <tr>\n",
       "                <td><strong>Reaction identifier</strong></td><td>TRANS-RXN18ZY-5-MET/NA+//MET/NA+.17.</td>\n",
       "            </tr><tr>\n",
       "                <td><strong>Name</strong></td><td>TRANS-RXN18ZY-5-MET/NA+//MET/NA+.17.</td>\n",
       "            </tr><tr>\n",
       "                <td><strong>Memory address</strong></td>\n",
       "                <td>0x7f021ef806d0</td>\n",
       "            </tr><tr>\n",
       "                <td><strong>Stoichiometry</strong></td>\n",
       "                <td>\n",
       "                    <p style='text-align:right'>met__L_e + na1_e <=> met__L_c + na1_c</p>\n",
       "                    <p style='text-align:right'>met__L + Sodium cation <=> L-Methionine + Sodium cation</p>\n",
       "                </td>\n",
       "            </tr><tr>\n",
       "                <td><strong>GPR</strong></td><td>TARA_ARC_108_MAG_00212_000000002095_4_1</td>\n",
       "            </tr><tr>\n",
       "                <td><strong>Lower bound</strong></td><td>-10.0</td>\n",
       "            </tr><tr>\n",
       "                <td><strong>Upper bound</strong></td><td>1000.0</td>\n",
       "            </tr>\n",
       "        </table>\n",
       "        "
      ],
      "text/plain": [
       "<Reaction TRANS-RXN18ZY-5-MET/NA+//MET/NA+.17. at 0x7f021ef806d0>"
      ]
     },
     "execution_count": 59,
     "metadata": {},
     "output_type": "execute_result"
    }
   ],
   "source": [
    "ps00212.reactions.get_by_id(\"TRANS-RXN18ZY-5-MET/NA+//MET/NA+.17.\")"
   ]
  },
  {
   "cell_type": "code",
   "execution_count": 62,
   "metadata": {},
   "outputs": [
    {
     "data": {
      "text/html": [
       "\n",
       "        <table>\n",
       "            <tr>\n",
       "                <td><strong>Reaction identifier</strong></td><td>BHMT</td>\n",
       "            </tr><tr>\n",
       "                <td><strong>Name</strong></td><td>Betaine-homocysteine S-methyltransferase</td>\n",
       "            </tr><tr>\n",
       "                <td><strong>Memory address</strong></td>\n",
       "                <td>0x7f0225b0a090</td>\n",
       "            </tr><tr>\n",
       "                <td><strong>Stoichiometry</strong></td>\n",
       "                <td>\n",
       "                    <p style='text-align:right'>glyb_c + hcys__L_c --> dmgly_c + met__L_c</p>\n",
       "                    <p style='text-align:right'>Betaine + L-Homocysteine --> Dimethylglycine + L-Methionine</p>\n",
       "                </td>\n",
       "            </tr><tr>\n",
       "                <td><strong>GPR</strong></td><td>TARA_ARC_108_MAG_00212_000000000556_8_1</td>\n",
       "            </tr><tr>\n",
       "                <td><strong>Lower bound</strong></td><td>0.0</td>\n",
       "            </tr><tr>\n",
       "                <td><strong>Upper bound</strong></td><td>1000.0</td>\n",
       "            </tr>\n",
       "        </table>\n",
       "        "
      ],
      "text/plain": [
       "<Reaction BHMT at 0x7f0225b0a090>"
      ]
     },
     "execution_count": 62,
     "metadata": {},
     "output_type": "execute_result"
    }
   ],
   "source": [
    "ps00212.reactions.get_by_id(\"BHMT\")"
   ]
  },
  {
   "cell_type": "markdown",
   "metadata": {},
   "source": [
    "### iTps1432"
   ]
  },
  {
   "cell_type": "code",
   "execution_count": 77,
   "metadata": {},
   "outputs": [],
   "source": [
    "# for rxn in iTPS1432.exchanges:\n",
    "#     # if \"photon\" in rxn.id:\n",
    "#     rxn.lower_bound = -10000"
   ]
  },
  {
   "cell_type": "code",
   "execution_count": 88,
   "metadata": {},
   "outputs": [],
   "source": [
    "# Open inorganic exchanges\n",
    "iTPS1432 = open_inorganic_exchanges(iTPS1432, lower_bound=-10000, upper_bound=10000)"
   ]
  },
  {
   "cell_type": "code",
   "execution_count": 94,
   "metadata": {},
   "outputs": [
    {
     "data": {
      "text/html": [
       "<strong><em>Optimal</em> solution with objective value 75.817</strong><br><div>\n",
       "<style scoped>\n",
       "    .dataframe tbody tr th:only-of-type {\n",
       "        vertical-align: middle;\n",
       "    }\n",
       "\n",
       "    .dataframe tbody tr th {\n",
       "        vertical-align: top;\n",
       "    }\n",
       "\n",
       "    .dataframe thead th {\n",
       "        text-align: right;\n",
       "    }\n",
       "</style>\n",
       "<table border=\"1\" class=\"dataframe\">\n",
       "  <thead>\n",
       "    <tr style=\"text-align: right;\">\n",
       "      <th></th>\n",
       "      <th>fluxes</th>\n",
       "      <th>reduced_costs</th>\n",
       "    </tr>\n",
       "  </thead>\n",
       "  <tbody>\n",
       "    <tr>\n",
       "      <th>IDP_m</th>\n",
       "      <td>25.681116</td>\n",
       "      <td>0.000000e+00</td>\n",
       "    </tr>\n",
       "    <tr>\n",
       "      <th>ATAM_c</th>\n",
       "      <td>855.417209</td>\n",
       "      <td>0.000000e+00</td>\n",
       "    </tr>\n",
       "    <tr>\n",
       "      <th>GLTS_c</th>\n",
       "      <td>42.438215</td>\n",
       "      <td>1.110223e-16</td>\n",
       "    </tr>\n",
       "    <tr>\n",
       "      <th>GLNA_h</th>\n",
       "      <td>0.000000</td>\n",
       "      <td>1.110223e-16</td>\n",
       "    </tr>\n",
       "    <tr>\n",
       "      <th>GLNA_m</th>\n",
       "      <td>0.000000</td>\n",
       "      <td>1.110223e-16</td>\n",
       "    </tr>\n",
       "    <tr>\n",
       "      <th>...</th>\n",
       "      <td>...</td>\n",
       "      <td>...</td>\n",
       "    </tr>\n",
       "    <tr>\n",
       "      <th>biomass_chitin_c</th>\n",
       "      <td>0.731840</td>\n",
       "      <td>0.000000e+00</td>\n",
       "    </tr>\n",
       "    <tr>\n",
       "      <th>biomass_frustule_c</th>\n",
       "      <td>0.760210</td>\n",
       "      <td>0.000000e+00</td>\n",
       "    </tr>\n",
       "    <tr>\n",
       "      <th>bof200_c</th>\n",
       "      <td>18.954214</td>\n",
       "      <td>1.859624e-15</td>\n",
       "    </tr>\n",
       "    <tr>\n",
       "      <th>biomass_EPS_c</th>\n",
       "      <td>0.000000</td>\n",
       "      <td>-7.000281e+00</td>\n",
       "    </tr>\n",
       "    <tr>\n",
       "      <th>biomass_polyp_c</th>\n",
       "      <td>0.248656</td>\n",
       "      <td>0.000000e+00</td>\n",
       "    </tr>\n",
       "  </tbody>\n",
       "</table>\n",
       "<p>6079 rows × 2 columns</p>\n",
       "</div>"
      ],
      "text/plain": [
       "<Solution 75.817 at 0x7f0211fb1a50>"
      ]
     },
     "execution_count": 94,
     "metadata": {},
     "output_type": "execute_result"
    }
   ],
   "source": [
    "meth_itps_a.upper_bound = 1 * 10000\n",
    "meth_itps_b.upper_bound = 1 * 10000\n",
    "\n",
    "iTPS1432.optimize()"
   ]
  },
  {
   "cell_type": "markdown",
   "metadata": {},
   "source": [
    "Interestingly, iTps1432 is sensitive to blocking MetH... why?? What are the other reactions producing met__L_c?"
   ]
  },
  {
   "cell_type": "code",
   "execution_count": 95,
   "metadata": {},
   "outputs": [
    {
     "data": {
      "text/plain": [
       "[('MTOBTA_c',\n",
       "  '4-Methylthio-2-oxobutanoate transaminase',\n",
       "  -10000.0,\n",
       "  10000.0,\n",
       "  -1.2288120631889707),\n",
       " ('METt_m',\n",
       "  'Amino acid transporter (Met-L), mitochondrial',\n",
       "  -10000.0,\n",
       "  10000.0,\n",
       "  0.0),\n",
       " ('METt_h',\n",
       "  'L-methionine transport from chloroplast to the cytosol',\n",
       "  -10000.0,\n",
       "  10000.0,\n",
       "  0.0),\n",
       " ('BHMT_c', 'Betaine-homocysteine S-methyltransferase', 0.0, 10000.0, 0.0),\n",
       " ('METS2_B12_c',\n",
       "  'Methionine synthase (B12 dependent) part 2',\n",
       "  0.0,\n",
       "  10000,\n",
       "  11.506067679203841)]"
      ]
     },
     "execution_count": 95,
     "metadata": {},
     "output_type": "execute_result"
    }
   ],
   "source": [
    "[\n",
    "    (rxn.id, rxn.name, rxn.lower_bound, rxn.upper_bound, rxn.flux)\n",
    "    for rxn in iTPS1432.reactions\n",
    "    if (\"met__L_c\" in [met.id for met in rxn.products])\n",
    "    ]"
   ]
  },
  {
   "cell_type": "markdown",
   "metadata": {},
   "source": [
    "## Cobalamin exchanges\n",
    "\n",
    "Alright, so I added the modified vitamin biomass pseudoreaction and now ps00212 is auxotroph for adocbl (or cbl1). However, the model still doesn't care about blocking MetH...\n",
    "\n",
    "Alright, now is sensitive to blocking MetH, after opening only inorganic exchanges. However, I see that it is realising NH4+ but not importing it? or any other source of N besides vitamins. Pseudo-nitzschia is not a diazotroph, so it should be importing NH4+. There must be some mass inbalance in the model."
   ]
  },
  {
   "cell_type": "code",
   "execution_count": 128,
   "metadata": {},
   "outputs": [],
   "source": [
    "ps00212 = open_inorganic_exchanges(ps00212, lower_bound=-1000)"
   ]
  },
  {
   "cell_type": "code",
   "execution_count": 124,
   "metadata": {},
   "outputs": [],
   "source": [
    "adocbl_ex = ps00212.reactions.get_by_id(\"EX_adocbl_e\")\n",
    "cbl1_ex = ps00212.reactions.get_by_id(\"EX_cbl1_e\")\n",
    "cbl1_transport = ps00212.reactions.get_by_id(\"cbl1_transport\")\n",
    "cbl_adocbl_inter = ps00212.reactions.get_by_id(\"cbl_interconversion_e\")\n",
    "\n",
    "# biotin\n",
    "bio_ex = ps00212.reactions.get_by_id(\"EX_biotin_e\")"
   ]
  },
  {
   "cell_type": "code",
   "execution_count": 125,
   "metadata": {},
   "outputs": [
    {
     "data": {
      "text/html": [
       "\n",
       "        <table>\n",
       "            <tr>\n",
       "                <td><strong>Reaction identifier</strong></td><td>EX_photon_e</td>\n",
       "            </tr><tr>\n",
       "                <td><strong>Name</strong></td><td>Photon exchange</td>\n",
       "            </tr><tr>\n",
       "                <td><strong>Memory address</strong></td>\n",
       "                <td>0x7fa3ae1bbd50</td>\n",
       "            </tr><tr>\n",
       "                <td><strong>Stoichiometry</strong></td>\n",
       "                <td>\n",
       "                    <p style='text-align:right'>photon_e <--</p>\n",
       "                    <p style='text-align:right'>Photon <--</p>\n",
       "                </td>\n",
       "            </tr><tr>\n",
       "                <td><strong>GPR</strong></td><td></td>\n",
       "            </tr><tr>\n",
       "                <td><strong>Lower bound</strong></td><td>-1000</td>\n",
       "            </tr><tr>\n",
       "                <td><strong>Upper bound</strong></td><td>0</td>\n",
       "            </tr>\n",
       "        </table>\n",
       "        "
      ],
      "text/plain": [
       "<Reaction EX_photon_e at 0x7fa3ae1bbd50>"
      ]
     },
     "execution_count": 125,
     "metadata": {},
     "output_type": "execute_result"
    }
   ],
   "source": [
    "ps00212.reactions.get_by_id(\"EX_photon_e\").upper_bound = 0\n",
    "ps00212.reactions.get_by_id(\"EX_photon_e\").lower_bound = -1000\n",
    "ps00212.reactions.get_by_id(\"EX_photon_e\")"
   ]
  },
  {
   "cell_type": "code",
   "execution_count": 129,
   "metadata": {},
   "outputs": [
    {
     "data": {
      "text/html": [
       "<strong><em>Optimal</em> solution with objective value 0.001</strong><br><div>\n",
       "<style scoped>\n",
       "    .dataframe tbody tr th:only-of-type {\n",
       "        vertical-align: middle;\n",
       "    }\n",
       "\n",
       "    .dataframe tbody tr th {\n",
       "        vertical-align: top;\n",
       "    }\n",
       "\n",
       "    .dataframe thead th {\n",
       "        text-align: right;\n",
       "    }\n",
       "</style>\n",
       "<table border=\"1\" class=\"dataframe\">\n",
       "  <thead>\n",
       "    <tr style=\"text-align: right;\">\n",
       "      <th></th>\n",
       "      <th>fluxes</th>\n",
       "      <th>reduced_costs</th>\n",
       "    </tr>\n",
       "  </thead>\n",
       "  <tbody>\n",
       "    <tr>\n",
       "      <th>ATPCS_c</th>\n",
       "      <td>0.000000e+00</td>\n",
       "      <td>0.0</td>\n",
       "    </tr>\n",
       "    <tr>\n",
       "      <th>CISY_m</th>\n",
       "      <td>0.000000e+00</td>\n",
       "      <td>0.0</td>\n",
       "    </tr>\n",
       "    <tr>\n",
       "      <th>PDH_E1a_h</th>\n",
       "      <td>0.000000e+00</td>\n",
       "      <td>0.0</td>\n",
       "    </tr>\n",
       "    <tr>\n",
       "      <th>ADH_c</th>\n",
       "      <td>0.000000e+00</td>\n",
       "      <td>0.0</td>\n",
       "    </tr>\n",
       "    <tr>\n",
       "      <th>GAPDH_h</th>\n",
       "      <td>1.480909e-01</td>\n",
       "      <td>0.0</td>\n",
       "    </tr>\n",
       "    <tr>\n",
       "      <th>...</th>\n",
       "      <td>...</td>\n",
       "      <td>...</td>\n",
       "    </tr>\n",
       "    <tr>\n",
       "      <th>PREPHENATEDEHYDRAT-RXN</th>\n",
       "      <td>2.835205e-04</td>\n",
       "      <td>0.0</td>\n",
       "    </tr>\n",
       "    <tr>\n",
       "      <th>EX_cbl1_e</th>\n",
       "      <td>0.000000e+00</td>\n",
       "      <td>-0.0</td>\n",
       "    </tr>\n",
       "    <tr>\n",
       "      <th>EX_adocbl_e</th>\n",
       "      <td>0.000000e+00</td>\n",
       "      <td>-0.0</td>\n",
       "    </tr>\n",
       "    <tr>\n",
       "      <th>cbl1_transport</th>\n",
       "      <td>7.871807e-12</td>\n",
       "      <td>0.0</td>\n",
       "    </tr>\n",
       "    <tr>\n",
       "      <th>cbl_interconversion_e</th>\n",
       "      <td>-7.871807e-12</td>\n",
       "      <td>-0.0</td>\n",
       "    </tr>\n",
       "  </tbody>\n",
       "</table>\n",
       "<p>4767 rows × 2 columns</p>\n",
       "</div>"
      ],
      "text/plain": [
       "<Solution 0.001 at 0x7fa3ba0361d0>"
      ]
     },
     "execution_count": 129,
     "metadata": {},
     "output_type": "execute_result"
    }
   ],
   "source": [
    "# Pseudo-nitzschia\n",
    "# cobalamin uptake\n",
    "cbl1_ex.lower_bound = 0\n",
    "adocbl_ex.lower_bound = -1000\n",
    "cbl1_transport.lower_bound, cbl1_transport.upper_bound = -1000, 1000\n",
    "cbl_adocbl_inter.lower_bound, cbl_adocbl_inter.upper_bound = -1000, 1000\n",
    "\n",
    "bio_ex.lower_bound = -1000\n",
    "\n",
    "\n",
    "\n",
    "sol = ps00212.optimize()\n",
    "sol"
   ]
  },
  {
   "cell_type": "code",
   "execution_count": 130,
   "metadata": {},
   "outputs": [],
   "source": [
    "sol_ex = sol[[rxn.id for rxn in ps00212.exchanges]]\n",
    "sol_ex = sol_ex[sol_ex != 0]\n",
    "sol_ex = sol_ex.sort_values(ascending=True)\n",
    "sol_ex.to_csv('ps00212_exchanges.csv')"
   ]
  },
  {
   "cell_type": "markdown",
   "metadata": {},
   "source": [
    "## Check mass inbalances in ps00212\n",
    "\n",
    "* Starting with NH4+ as it should not export it"
   ]
  },
  {
   "cell_type": "code",
   "execution_count": 93,
   "metadata": {},
   "outputs": [],
   "source": [
    "for rxn in ps00212.reactions:\n",
    "    imbalances = rxn.check_mass_balance()\n",
    "    if len(imbalances) > 0:\n",
    "        if \"N\" in imbalances:\n",
    "            print(\" \")\n",
    "            print(rxn.id, rxn.name, rxn.reaction, imbalances)\n",
    "            for met in rxn.metabolites:\n",
    "                print(\" \", met.id, met.name, met.formula, met.charge)\n"
   ]
  },
  {
   "cell_type": "markdown",
   "metadata": {},
   "source": [
    "Some weird imbalanced reactions that could be producing N out of nothing, such as DM_dgta205n31619Z_c, or SK_Asn_X_Ser_Thr_c.\n",
    "\n",
    "Alrigth, what's happening is that there are a bunch of \"sink\" reactions which have incorrect bounds, and are in fact producing N out of nothing. Let's fix that.\n",
    "\n",
    "I think there was a version of this model without sink reactions (no SK)"
   ]
  },
  {
   "cell_type": "code",
   "execution_count": 89,
   "metadata": {},
   "outputs": [
    {
     "data": {
      "text/html": [
       "\n",
       "        <table>\n",
       "            <tr>\n",
       "                <td><strong>Reaction identifier</strong></td><td>SK_Asn_X_Ser_Thr_c</td>\n",
       "            </tr><tr>\n",
       "                <td><strong>Name</strong></td><td>Sink Asn-X-Ser Thr c</td>\n",
       "            </tr><tr>\n",
       "                <td><strong>Memory address</strong></td>\n",
       "                <td>0x7fa3b46ee890</td>\n",
       "            </tr><tr>\n",
       "                <td><strong>Stoichiometry</strong></td>\n",
       "                <td>\n",
       "                    <p style='text-align:right'>Asn_X_Ser_Thr_c <--</p>\n",
       "                    <p style='text-align:right'>Protein-linked asparagine residue (N-glycosylation site) <--</p>\n",
       "                </td>\n",
       "            </tr><tr>\n",
       "                <td><strong>GPR</strong></td><td></td>\n",
       "            </tr><tr>\n",
       "                <td><strong>Lower bound</strong></td><td>-0.5</td>\n",
       "            </tr><tr>\n",
       "                <td><strong>Upper bound</strong></td><td>0.0</td>\n",
       "            </tr>\n",
       "        </table>\n",
       "        "
      ],
      "text/plain": [
       "<Reaction SK_Asn_X_Ser_Thr_c at 0x7fa3b46ee890>"
      ]
     },
     "execution_count": 89,
     "metadata": {},
     "output_type": "execute_result"
    }
   ],
   "source": [
    "ps00212.reactions.get_by_id(\"SK_Asn_X_Ser_Thr_c\")"
   ]
  },
  {
   "cell_type": "code",
   "execution_count": 92,
   "metadata": {},
   "outputs": [
    {
     "data": {
      "text/html": [
       "\n",
       "        <table>\n",
       "            <tr>\n",
       "                <td><strong>Reaction identifier</strong></td><td>DM_dgta205n31619Z_c</td>\n",
       "            </tr><tr>\n",
       "                <td><strong>Name</strong></td><td>R_DM_dgta205n31619Z_c</td>\n",
       "            </tr><tr>\n",
       "                <td><strong>Memory address</strong></td>\n",
       "                <td>0x7fa3b43eec10</td>\n",
       "            </tr><tr>\n",
       "                <td><strong>Stoichiometry</strong></td>\n",
       "                <td>\n",
       "                    <p style='text-align:right'>dgta205n31619Z_c --></p>\n",
       "                    <p style='text-align:right'>Diacylglyceryl-N,N,N-trimethyl-beta-alanine (20:5(5Z,8Z,11Z,14Z,17Z)/16:1(9Z)) --></p>\n",
       "                </td>\n",
       "            </tr><tr>\n",
       "                <td><strong>GPR</strong></td><td></td>\n",
       "            </tr><tr>\n",
       "                <td><strong>Lower bound</strong></td><td>0.0</td>\n",
       "            </tr><tr>\n",
       "                <td><strong>Upper bound</strong></td><td>1000.0</td>\n",
       "            </tr>\n",
       "        </table>\n",
       "        "
      ],
      "text/plain": [
       "<Reaction DM_dgta205n31619Z_c at 0x7fa3b43eec10>"
      ]
     },
     "execution_count": 92,
     "metadata": {},
     "output_type": "execute_result"
    }
   ],
   "source": [
    "ps00212.reactions.get_by_id(\"DM_dgta205n31619Z_c\")"
   ]
  },
  {
   "cell_type": "markdown",
   "metadata": {},
   "source": [
    "Let's block sink reactions"
   ]
  },
  {
   "cell_type": "code",
   "execution_count": 133,
   "metadata": {},
   "outputs": [
    {
     "data": {
      "text/html": [
       "<strong><em>Optimal</em> solution with objective value 0.001</strong><br><div>\n",
       "<style scoped>\n",
       "    .dataframe tbody tr th:only-of-type {\n",
       "        vertical-align: middle;\n",
       "    }\n",
       "\n",
       "    .dataframe tbody tr th {\n",
       "        vertical-align: top;\n",
       "    }\n",
       "\n",
       "    .dataframe thead th {\n",
       "        text-align: right;\n",
       "    }\n",
       "</style>\n",
       "<table border=\"1\" class=\"dataframe\">\n",
       "  <thead>\n",
       "    <tr style=\"text-align: right;\">\n",
       "      <th></th>\n",
       "      <th>fluxes</th>\n",
       "      <th>reduced_costs</th>\n",
       "    </tr>\n",
       "  </thead>\n",
       "  <tbody>\n",
       "    <tr>\n",
       "      <th>ATPCS_c</th>\n",
       "      <td>1.268258e-03</td>\n",
       "      <td>0.0</td>\n",
       "    </tr>\n",
       "    <tr>\n",
       "      <th>CISY_m</th>\n",
       "      <td>0.000000e+00</td>\n",
       "      <td>0.0</td>\n",
       "    </tr>\n",
       "    <tr>\n",
       "      <th>PDH_E1a_h</th>\n",
       "      <td>0.000000e+00</td>\n",
       "      <td>0.0</td>\n",
       "    </tr>\n",
       "    <tr>\n",
       "      <th>ADH_c</th>\n",
       "      <td>0.000000e+00</td>\n",
       "      <td>0.0</td>\n",
       "    </tr>\n",
       "    <tr>\n",
       "      <th>GAPDH_h</th>\n",
       "      <td>3.823396e-02</td>\n",
       "      <td>0.0</td>\n",
       "    </tr>\n",
       "    <tr>\n",
       "      <th>...</th>\n",
       "      <td>...</td>\n",
       "      <td>...</td>\n",
       "    </tr>\n",
       "    <tr>\n",
       "      <th>PREPHENATEDEHYDRAT-RXN</th>\n",
       "      <td>2.835205e-04</td>\n",
       "      <td>0.0</td>\n",
       "    </tr>\n",
       "    <tr>\n",
       "      <th>EX_cbl1_e</th>\n",
       "      <td>0.000000e+00</td>\n",
       "      <td>-0.0</td>\n",
       "    </tr>\n",
       "    <tr>\n",
       "      <th>EX_adocbl_e</th>\n",
       "      <td>0.000000e+00</td>\n",
       "      <td>-0.0</td>\n",
       "    </tr>\n",
       "    <tr>\n",
       "      <th>cbl1_transport</th>\n",
       "      <td>7.871807e-12</td>\n",
       "      <td>0.0</td>\n",
       "    </tr>\n",
       "    <tr>\n",
       "      <th>cbl_interconversion_e</th>\n",
       "      <td>-7.871807e-12</td>\n",
       "      <td>-0.0</td>\n",
       "    </tr>\n",
       "  </tbody>\n",
       "</table>\n",
       "<p>4767 rows × 2 columns</p>\n",
       "</div>"
      ],
      "text/plain": [
       "<Solution 0.001 at 0x7fa39f5e6cd0>"
      ]
     },
     "execution_count": 133,
     "metadata": {},
     "output_type": "execute_result"
    }
   ],
   "source": [
    "for rxn in ps00212.reactions:\n",
    "    if \"SK_\" in rxn.id:\n",
    "        rxn.lower_bound = -1000\n",
    "        rxn.upper_bound = 1000\n",
    "\n",
    "\n",
    "sol = ps00212.optimize()\n",
    "sol"
   ]
  },
  {
   "cell_type": "code",
   "execution_count": 134,
   "metadata": {},
   "outputs": [],
   "source": [
    "sol_ex = sol[[rxn.id for rxn in ps00212.exchanges]]\n",
    "sol_ex = sol_ex[sol_ex != 0]\n",
    "sol_ex = sol_ex.sort_values(ascending=True)\n",
    "sol_ex.to_csv('ps00212_exchanges.csv')"
   ]
  },
  {
   "cell_type": "markdown",
   "metadata": {},
   "source": [
    "## Investigating THF metabolism in Pseudo-nitzschia\n",
    "\n",
    "\n",
    "Big difference:\n",
    "\n",
    "* THF included in iML1515's biomass reaction but absent from PS biomass reaction!"
   ]
  },
  {
   "cell_type": "code",
   "execution_count": 6,
   "metadata": {},
   "outputs": [
    {
     "data": {
      "text/html": [
       "\n",
       "        <table>\n",
       "            <tr>\n",
       "                <td><strong>Metabolite identifier</strong></td><td>THF-GLU-N_c</td>\n",
       "            </tr><tr>\n",
       "                <td><strong>Name</strong></td><td>a tetrahydrofolate</td>\n",
       "            </tr><tr>\n",
       "                <td><strong>Memory address</strong></td>\n",
       "                <td>0x7f9f397a2ad0</td>\n",
       "            </tr><tr>\n",
       "                <td><strong>Formula</strong></td><td>C19H21N7O5</td>\n",
       "            </tr><tr>\n",
       "                <td><strong>Compartment</strong></td><td>c</td>\n",
       "            </tr><tr>\n",
       "                <td><strong>In 7 reaction(s)</strong></td><td>\n",
       "                    GLYOHMETRANS-RXN, RXN-21539, GCVT-RXN, DIHYDROFOLATEREDUCT-RXN, FORMATETHFLIG-RXN, 3-CH3-2-OXOBUTANOATE-OH-CH3-XFER-RXN, AICARTRANSFORM-RXN\n",
       "                    </td>\n",
       "            </tr>\n",
       "        </table>"
      ],
      "text/plain": [
       "<Metabolite THF-GLU-N_c at 0x7f9f397a2ad0>"
      ]
     },
     "execution_count": 6,
     "metadata": {},
     "output_type": "execute_result"
    }
   ],
   "source": [
    "thf_00212 = ps00212.metabolites.get_by_id(\"THF-GLU-N_c\")\n",
    "thf_00212"
   ]
  },
  {
   "cell_type": "code",
   "execution_count": 9,
   "metadata": {},
   "outputs": [
    {
     "data": {
      "text/html": [
       "\n",
       "        <table>\n",
       "            <tr>\n",
       "                <td><strong>Metabolite identifier</strong></td><td>thf_c</td>\n",
       "            </tr><tr>\n",
       "                <td><strong>Name</strong></td><td>5,6,7,8-Tetrahydrofolate</td>\n",
       "            </tr><tr>\n",
       "                <td><strong>Memory address</strong></td>\n",
       "                <td>0x7f9f3a5017d0</td>\n",
       "            </tr><tr>\n",
       "                <td><strong>Formula</strong></td><td>C19H21N7O6</td>\n",
       "            </tr><tr>\n",
       "                <td><strong>Compartment</strong></td><td>c</td>\n",
       "            </tr><tr>\n",
       "                <td><strong>In 12 reaction(s)</strong></td><td>\n",
       "                    GARFT, BIOMASS_Ec_iML1515_WT_75p37M, FTHFD, FTHFLi, ULA4NFT, AICART, GHMT2r, METS, MOHMT, BIOMASS_Ec_iML1515_core_75p37M, GLYCL, DHFR\n",
       "                    </td>\n",
       "            </tr>\n",
       "        </table>"
      ],
      "text/plain": [
       "<Metabolite thf_c at 0x7f9f3a5017d0>"
      ]
     },
     "execution_count": 9,
     "metadata": {},
     "output_type": "execute_result"
    }
   ],
   "source": [
    "thf_iml1515 = iML1515.metabolites.get_by_id('thf_c')\n",
    "thf_iml1515"
   ]
  },
  {
   "cell_type": "markdown",
   "metadata": {},
   "source": [
    "## Biomass reaction in Pseudo-nitzschia\n",
    "\n",
    "* Default: bof_c: biomass equation for model testing\n",
    "\n",
    "* M_BIOMASS_c (metabolite)"
   ]
  },
  {
   "cell_type": "code",
   "execution_count": 14,
   "metadata": {},
   "outputs": [
    {
     "data": {
      "text/plain": [
       "{0 <= bof_c <= 1000.0, 0 <= bof_c_reverse_660d5 <= -0.0}"
      ]
     },
     "execution_count": 14,
     "metadata": {},
     "output_type": "execute_result"
    }
   ],
   "source": [
    "ps00212.objective.variables"
   ]
  },
  {
   "cell_type": "markdown",
   "metadata": {},
   "source": [
    "## Investigating iTps1432 of Thalasospira\n",
    "\n",
    "This model has a \"vitamin\" component in its biomass reaction (R_biomass_vit_c) which includes adocbl. We could add this component to our bof in ps00212, or just take iTps1432's definition of biomass (since it is manually curated)"
   ]
  },
  {
   "cell_type": "markdown",
   "metadata": {},
   "source": [
    "## Adapt vitamin biomass component to Ps00212\n",
    "\n",
    "<reaction id=\"R_biomass_vit_c\" name=\"Biomass component: Vitamins\" reversible=\"false\" fast=\"false\" fbc:lowerFluxBound=\"cobra_0_bound\" fbc:upperFluxBound=\"cobra_default_ub\">\n",
    "<notes>\n",
    "    <html xmlns=\"http://www.w3.org/1999/xhtml\">\n",
    "    <p>SUBSYSTEM: Modeling: Biomass reaction</p>\n",
    "    </html>\n",
    "</notes>\n",
    "<listOfReactants>\n",
    "    <speciesReference species=\"M_btn_c\" stoichiometry=\"0.00180467621671466\" constant=\"true\"/>\n",
    "    <speciesReference species=\"M_pnto__R_c\" stoichiometry=\"0.0312336793120744\" constant=\"true\"/>\n",
    "    <speciesReference species=\"M_thm_c\" stoichiometry=\"0.158396573308146\" constant=\"true\"/>\n",
    "    <speciesReference species=\"M_pydxn_c\" stoichiometry=\"0.011841652061051\" constant=\"true\"/>\n",
    "    <speciesReference species=\"M_adocbl_c\" stoichiometry=\"4.72255301000285e-08\" constant=\"true\"/>\n",
    "    <speciesReference species=\"M_ribflv_c\" stoichiometry=\"0.0764535255651577\" constant=\"true\"/>\n",
    "    <speciesReference species=\"M_fol_c\" stoichiometry=\"0.0573780622072159\" constant=\"true\"/>\n",
    "    <speciesReference species=\"M_ascb__L_c\" stoichiometry=\"3.25323755030631\" constant=\"true\"/>\n",
    "    <speciesReference species=\"M_amet_c\" stoichiometry=\"0.000163843675857242\" constant=\"true\"/>\n",
    "    <speciesReference species=\"M_avite1_c\" stoichiometry=\"0.71543826528432\" constant=\"true\"/>\n",
    "</listOfReactants>\n",
    "<listOfProducts>\n",
    "    <speciesReference species=\"M_biomass_vit_c\" stoichiometry=\"1\" constant=\"true\"/>\n",
    "</listOfProducts>\n",
    "</reaction>"
   ]
  },
  {
   "cell_type": "code",
   "execution_count": 16,
   "metadata": {},
   "outputs": [
    {
     "data": {
      "text/html": [
       "\n",
       "        <table>\n",
       "            <tr>\n",
       "                <td><strong>Name</strong></td>\n",
       "                <td>iTps1432</td>\n",
       "            </tr><tr>\n",
       "                <td><strong>Memory address</strong></td>\n",
       "                <td>7f9f37d733d0</td>\n",
       "            </tr><tr>\n",
       "                <td><strong>Number of metabolites</strong></td>\n",
       "                <td>2792</td>\n",
       "            </tr><tr>\n",
       "                <td><strong>Number of reactions</strong></td>\n",
       "                <td>6079</td>\n",
       "            </tr><tr>\n",
       "                <td><strong>Number of genes</strong></td>\n",
       "                <td>1432</td>\n",
       "            </tr><tr>\n",
       "                <td><strong>Number of groups</strong></td>\n",
       "                <td>93</td>\n",
       "            </tr><tr>\n",
       "                <td><strong>Objective expression</strong></td>\n",
       "                <td>4.0*DM_biomass_c - 4.0*DM_biomass_c_reverse_c49c1</td>\n",
       "            </tr><tr>\n",
       "                <td><strong>Compartments</strong></td>\n",
       "                <td>plastid, mitochondria, cytosol, peroxisome, thylakoid membrane, extracellular</td>\n",
       "            </tr>\n",
       "          </table>"
      ],
      "text/plain": [
       "<Model iTps1432 at 0x7f9f37d733d0>"
      ]
     },
     "execution_count": 16,
     "metadata": {},
     "output_type": "execute_result"
    }
   ],
   "source": [
    "itps1432 = cobra.io.read_sbml_model('/home/robaina/Documents/NewAtlantis/iTps1432_high.xml')\n",
    "itps1432"
   ]
  }
 ],
 "metadata": {
  "kernelspec": {
   "display_name": "nal",
   "language": "python",
   "name": "python3"
  },
  "language_info": {
   "codemirror_mode": {
    "name": "ipython",
    "version": 3
   },
   "file_extension": ".py",
   "mimetype": "text/x-python",
   "name": "python",
   "nbconvert_exporter": "python",
   "pygments_lexer": "ipython3",
   "version": "3.11.4"
  },
  "orig_nbformat": 4
 },
 "nbformat": 4,
 "nbformat_minor": 2
}
