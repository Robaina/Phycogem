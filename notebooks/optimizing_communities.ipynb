{
 "cells": [
  {
   "cell_type": "markdown",
   "metadata": {},
   "source": [
    "# Finding minimal viable communities\n",
    "\n",
    "Community genome-scale metabolic models (cGEMs) are meta-models which integrate individual genome-scale metabolic models (GEMs) of species in a community. To this end, individual models shared the same external environment (with its compounds), providing a way to couple the individual model flux spaces. The following toy community model depicts three interacting species $A-C$ (i.e., GEMs) and three shared, external metabolites, $e_1-e_3$. Individual GEMs interact through boundaty reactions that export/import external metabolites into/from the shared environment. The community model is thus composed of the internal reactions of each individual model, the boundary reactions connecting the external metabolites to the internal reactions of each model, and the external compounds present in the environment. Note that an additional exchange reaction is added for each external compound, to account for other processes that may affect the concentration of external compounds, e.g., diffusion, degradation, etc.\n",
    "\n",
    "<div style=\"text-align:center; width:100%\"><img src=\"images/toy_community_model.png\" style=\"max-width:30%;\"></div>"
   ]
  },
  {
   "cell_type": "markdown",
   "metadata": {},
   "source": [
    "$$\n",
    "\\begin{align}\n",
    "\\min \\quad & \\sum_{i \\in C} y_i \\\\\n",
    "\\text{s.t.} \\quad\n",
    "& S_c v = 0 \\\\\n",
    "& v_{min} \\leq v \\leq v_{max} \\\\\n",
    "& v^i_{bio} \\geq y_i\\delta_i \\quad \\forall i \\in C \\\\\n",
    "& \\sum_{j \\in m_e} v^i_j \\leq y_i M \\quad \\forall i \\in C \\\\\n",
    "& y_i \\in \\{0,1\\} \\quad \\forall i \\in C\n",
    "\\end{align}\n",
    "$$"
   ]
  }
 ],
 "metadata": {
  "language_info": {
   "name": "python"
  }
 },
 "nbformat": 4,
 "nbformat_minor": 2
}
