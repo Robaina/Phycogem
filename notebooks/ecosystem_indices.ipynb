{
 "cells": [
  {
   "cell_type": "markdown",
   "metadata": {},
   "source": [
    "# Modeling-derived indices for ecosystem assessment"
   ]
  },
  {
   "cell_type": "markdown",
   "metadata": {},
   "source": [
    "## Metabolic Robustness Index I (MRI-I)\n",
    "\n",
    "This index measures the capacity of adaptation of a microbial community to perturbations in their composition, i.e. removal of one or several community members. Adaptability is related to functional redundancy among community members. The more redundant the community, the more robust to perturbations in their composition. We could test robustness by randomly eliminating each member in the community and then testing if the remaining community is still self-sufficient under a given environment, i.e, all members can grow, to then aggregate results in some way. However, by eliminating random members one by one, we are missing possible higher-order interactions, that is, submodules of more than two members that operate together to perform a required function for community growth. To account for this, we can follow a different approach. \n",
    "\n",
    "Departing from the whole community, the set $C = {m_1, \\dots, m_k}$ of different taxa, we are interested in finding how many subcommunities can achieve self-sufficiency, since this figure is related to the robustness of the community as a whole. At one end, we have a scenario where only the entire community is self-sufficient under a given environment, at the other end, every single species is self-sufficient, thus interactions are not required for survival. Thus, we could maximize the number of subsets under the condition that every subset must be self-sufficient. This index could be normalized to $2^{|C|}$.\n"
   ]
  },
  {
   "cell_type": "markdown",
   "metadata": {},
   "source": [
    "## Metabolic Robustness II (MRI-II)\n",
    "\n",
    "The problem above may be time-consuming since it requires solving an LP for every possible subset, which scales as $2^{|C|}$, which would become unfeasible for large community sizes. We can think of a simpler index that only requires solving a single MILP. Specifically, we can aim at finding the minimum subset size among all possible subsets conditional to self-suficiency. This index would then range between 1 and $|C|$, the size of the community. Index values closer to $|C|$ would indicate a larger number of metabolic interdependencies and, hence, more fragility upon perturbations in community composition. The index would be normalized by $|C|$:\n",
    "\n",
    "$$\n",
    "MRI_{II} = \\frac{1}{|C|} \\min_{S \\subseteq C} |S|.\n",
    "$$\n",
    "\n",
    "To find the minimum subset size, we can use a MILP formulation. Let $y_i$ be a binary variable that indicates whether species $i$ is in the subset $S$ or not. Then, the following MILP formulation can be used:\n",
    "\n",
    "$$\n",
    "\\begin{align}\n",
    "\\min \\quad & \\sum_{i \\in C} y_i \\\\\n",
    "\\text{s.t.} \\quad\n",
    "& S v = 0 \\\\\n",
    "& v_{min} \\leq v \\leq v_{max} \\\\\n",
    "& v^i_{bio} \\geq \\delta_i \\quad \\forall i \\in C \\\\\n",
    "& \\sum_{j \\in EX_i} v_j \\leq y_{i} M \\quad \\forall i \\in C \\\\\n",
    "& y_i \\in \\{0,1\\} \\quad \\forall i \\in C\n",
    "\\end{align}\n",
    "$$\n",
    "\n",
    "where $S$ is the stoichiometric matrix of the community model, i.e. $S = [S_i, \\dots, S_k]$, $v$ is the vector of fluxes, $v_{min}$ and $v_{max}$ are the lower and upper bounds on fluxes, $v^i_{bio}$ is the biomass flux of species $i$, $\\delta_i$ is a minimum biomass threshold for species $i$, $EX_i$ is the set of exchange reactions of species $i$, and $M$ is a large number. The the third constraint ensures that biomass fluxes are above a minimum threshold, thus guarantiing self-suficiency, while the fourth constraint ensures that exchange fluxes are zero for species that are not in the subset."
   ]
  },
  {
   "cell_type": "code",
   "execution_count": null,
   "metadata": {},
   "outputs": [],
   "source": []
  }
 ],
 "metadata": {
  "kernelspec": {
   "display_name": "phycogem",
   "language": "python",
   "name": "python3"
  },
  "language_info": {
   "name": "python",
   "version": "3.11.4"
  },
  "orig_nbformat": 4
 },
 "nbformat": 4,
 "nbformat_minor": 2
}
