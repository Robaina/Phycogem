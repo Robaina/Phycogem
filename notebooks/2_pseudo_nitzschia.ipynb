{
 "cells": [
  {
   "cell_type": "markdown",
   "metadata": {},
   "source": [
    "# Build Pseudo-nitzschia genome-scale metabolic model"
   ]
  },
  {
   "cell_type": "code",
   "execution_count": 1,
   "metadata": {},
   "outputs": [],
   "source": [
    "import re\n",
    "\n",
    "import cobra\n",
    "from cobra import Reaction, Metabolite\n",
    "\n",
    "\n",
    "def extract_chemical_elements(formula: str) -> dict:\n",
    "    \"\"\"\n",
    "    Extract the chemical components from a chemical formula.\n",
    "    \"\"\"\n",
    "    components = re.findall(r'([A-Z][a-z]*)(\\d*)', formula)\n",
    "    component_dict = {}\n",
    "    for element, count in components:\n",
    "        component_dict[element] = int(count) if count else 1\n",
    "    return component_dict\n",
    "\n",
    "def open_inorganic_exchanges(\n",
    "        model: cobra.Model,\n",
    "        lower_bound: float = -1000,\n",
    "        upper_bound: float = 1000,\n",
    "        include: list = None,\n",
    "        inplace: bool = True) -> cobra.Model:\n",
    "    \"\"\"\n",
    "    Open all inorganic exchanges in a model and close organic exchanges,\n",
    "    except for indicated ones.\n",
    "\n",
    "    Parameters\n",
    "    ----------\n",
    "    model : cobra.Model\n",
    "        Model to open exchanges in.\n",
    "    include: list, optional\n",
    "        List of exchange IDs to be opened besides inorganic ones. Default is None.\n",
    "    inplace : bool, optional\n",
    "        If True, open exchanges in place. If False, return a copy of the model with opened\n",
    "        exchanges. Default is True.\n",
    "\n",
    "    Returns\n",
    "    -------\n",
    "    cobra.Model\n",
    "        Model with opened exchanges.\n",
    "    \"\"\"\n",
    "    if inplace:\n",
    "        model = model\n",
    "    else:\n",
    "        model = model.copy()\n",
    "    for rxn in model.exchanges:\n",
    "        if rxn.id in include:\n",
    "            rxn.lower_bound = lower_bound\n",
    "            rxn.upper_bound = upper_bound\n",
    "        else:\n",
    "            met = [met for met in rxn.metabolites][0]\n",
    "            if met.formula is not None:\n",
    "                chemical_elements = extract_chemical_elements(met.formula)\n",
    "                if (\"C\" not in chemical_elements):\n",
    "                    rxn.lower_bound = lower_bound\n",
    "                    rxn.upper_bound = upper_bound\n",
    "                else:\n",
    "                    rxn.lower_bound = 0\n",
    "    return model"
   ]
  },
  {
   "cell_type": "code",
   "execution_count": 2,
   "metadata": {},
   "outputs": [
    {
     "name": "stdout",
     "output_type": "stream",
     "text": [
      "Set parameter Username\n",
      "Academic license - for non-commercial use only - expires 2023-11-05\n"
     ]
    },
    {
     "data": {
      "text/html": [
       "\n",
       "        <table>\n",
       "            <tr>\n",
       "                <td><strong>Name</strong></td>\n",
       "                <td>TARA_ARC_108_MAG_00212_cds</td>\n",
       "            </tr><tr>\n",
       "                <td><strong>Memory address</strong></td>\n",
       "                <td>7f022551e690</td>\n",
       "            </tr><tr>\n",
       "                <td><strong>Number of metabolites</strong></td>\n",
       "                <td>2173</td>\n",
       "            </tr><tr>\n",
       "                <td><strong>Number of reactions</strong></td>\n",
       "                <td>4689</td>\n",
       "            </tr><tr>\n",
       "                <td><strong>Number of genes</strong></td>\n",
       "                <td>1931</td>\n",
       "            </tr><tr>\n",
       "                <td><strong>Number of groups</strong></td>\n",
       "                <td>357</td>\n",
       "            </tr><tr>\n",
       "                <td><strong>Objective expression</strong></td>\n",
       "                <td>1.0*bof_c - 1.0*bof_c_reverse_660d5</td>\n",
       "            </tr><tr>\n",
       "                <td><strong>Compartments</strong></td>\n",
       "                <td>c, u, e, h</td>\n",
       "            </tr>\n",
       "          </table>"
      ],
      "text/plain": [
       "<Model TARA_ARC_108_MAG_00212_cds at 0x7f022551e690>"
      ]
     },
     "execution_count": 2,
     "metadata": {},
     "output_type": "execute_result"
    }
   ],
   "source": [
    "model = cobra.io.read_sbml_model(\"gems/photoeukstein/TARA_ARC_108_MAG_00212.cds_noSK.xml\")\n",
    "model"
   ]
  },
  {
   "cell_type": "markdown",
   "metadata": {},
   "source": [
    "## Add cobalamin exchange"
   ]
  },
  {
   "cell_type": "code",
   "execution_count": 3,
   "metadata": {},
   "outputs": [],
   "source": [
    "# Define new metabolites\n",
    "cbl1_e = Metabolite(\n",
    "    'cbl1_e',\n",
    "    name='Cobalamin',\n",
    "    compartment='e'\n",
    "    )\n",
    "\n",
    "cbl1_c = Metabolite(\n",
    "    'cbl1_c',\n",
    "     name='Cobalamin',\n",
    "     compartment='c'\n",
    "     )\n",
    "\n",
    "adocbl_e = Metabolite(\n",
    "    'adocbl_e',\n",
    "    name='Adenosylcobalamin',\n",
    "    compartment='e'\n",
    "    )\n",
    "\n",
    "# Define a new exchange reaction\n",
    "adocbl_ex = Reaction(\n",
    "    'EX_adocbl_e',\n",
    "    name='AdenosylCobalamin exchange',\n",
    "    subsystem='Exchange',\n",
    "    lower_bound=-1000.0,\n",
    "    upper_bound=1000.0,\n",
    "    )\n",
    "\n",
    "adocbl_ex.add_metabolites({\n",
    "    adocbl_e: -1.0,\n",
    "})\n",
    "\n",
    "adocbl_ex.gene_reaction_rule = 'spontaneous'\n",
    "\n",
    "# Define transport to cytoplasm\n",
    "cbl1_transport = Reaction(\n",
    "    'R_cbl1_transport',\n",
    "    name='Cobalamin transport',\n",
    "    subsystem='Transport',\n",
    "    lower_bound=0.0,\n",
    "    upper_bound=1000.0,\n",
    "    )\n",
    "\n",
    "cbl1_transport.add_metabolites({\n",
    "    cbl1_e: -1.0,\n",
    "    cbl1_c: 1.0,\n",
    "})\n",
    "\n",
    "cbl1_transport.gene_reaction_rule = 'spontaneous'\n",
    "\n",
    "# Define cobalamin interconversion reaction\n",
    "adocbl_inter = Reaction(\n",
    "    'R_cbl_interconversion_e',\n",
    "    name='Cobalamin interconversion',\n",
    "    subsystem='Transport',\n",
    "    lower_bound=-1000.0,\n",
    "    upper_bound=1000.0\n",
    "    )\n",
    "adocbl_inter.name = 'Cobalamin interconversion'\n",
    "adocbl_inter.subsystem = 'Transport'\n",
    "\n",
    "adocbl_inter.add_metabolites({\n",
    "    cbl1_e: -1.0,\n",
    "    adocbl_e: 1.0,\n",
    "})\n",
    "\n",
    "adocbl_inter.gene_reaction_rule = 'spontaneous'\n",
    "\n",
    "# Add the reactions to the model\n",
    "model.add_reactions([adocbl_ex, cbl1_transport, adocbl_inter])"
   ]
  },
  {
   "cell_type": "markdown",
   "metadata": {},
   "source": [
    "## Add vitamin component to biomass reaction\n",
    "\n",
    "Following the biomass reaction of the model iTPS1432 of the diatom _Thalassiosira pseudonana_ (https://journals.plos.org/plosone/article?id=10.1371/journal.pone.0241960), we will add a vitamin component to the biomass reaction of Pseudo-nitzschia to guarantee that a set of essential cofactors are required for growth.\n",
    "\n",
    "We will also need to add the fake metabolite `biomass_vit_c` to the model, as well as to add the vitamin fake metabolite to the biomass reaction of the Pseudo-nitzschia model (bof_c). Let's go ahead and modify the cobra model object.\n"
   ]
  },
  {
   "cell_type": "markdown",
   "metadata": {},
   "source": [
    "### Add new fake metabolite biomass_vit_c"
   ]
  },
  {
   "cell_type": "code",
   "execution_count": 4,
   "metadata": {},
   "outputs": [],
   "source": [
    "biomass_vit_c = Metabolite(\n",
    "    \"biomass_vit_c\",\n",
    "    formula=\"\",\n",
    "    name=\"vitamin component of biomass\",\n",
    "    compartment=\"c\"\n",
    ")\n",
    "model.add_metabolites([biomass_vit_c])\n"
   ]
  },
  {
   "cell_type": "markdown",
   "metadata": {},
   "source": [
    "## Add vitamin component reaction and modify biomass reaction"
   ]
  },
  {
   "cell_type": "code",
   "execution_count": 5,
   "metadata": {},
   "outputs": [],
   "source": [
    "# Add reaction for vitamin C component of biomass\n",
    "reaction_biomass_vit_c = Reaction(\n",
    "    \"biomass_vit_c\",\n",
    "    name=\"vitamin component of biomass\",\n",
    "    subsystem=\"\",\n",
    "    lower_bound=0,\n",
    "    upper_bound=1000\n",
    ")\n",
    "\n",
    "reaction_biomass_vit_c.add_metabolites({\n",
    "    model.metabolites.get_by_id(\"btn_c\"): -0.00180467621671466,\n",
    "    model.metabolites.get_by_id(\"pnto__R_c\"): -0.0312336793120744,\n",
    "    model.metabolites.get_by_id(\"thm_c\"): -0.158396573308146,\n",
    "    model.metabolites.get_by_id(\"pydxn_c\"): -0.011841652061051,\n",
    "    model.metabolites.get_by_id(\"cbl1_c\"): -4.72255301000285e-06,\n",
    "    model.metabolites.get_by_id(\"ribflv_c\"): -0.0764535255651577,\n",
    "    model.metabolites.get_by_id(\"fol_c\"): -0.0573780622072159,\n",
    "    model.metabolites.get_by_id(\"ascb__L_c\"): -3.25323755030631,\n",
    "    model.metabolites.get_by_id(\"amet_c\"): -0.000163843675857242,\n",
    "    model.metabolites.get_by_id(\"avite1_c\"): -0.71543826528432,\n",
    "    model.metabolites.get_by_id(\"biomass_vit_c\"): 1,\n",
    "})\n",
    "\n",
    "model.add_reactions([reaction_biomass_vit_c])\n",
    "\n",
    "# Modify biomass reaction\n",
    "bof_c = model.reactions.get_by_id(\"bof_c\")\n",
    "bof_c.add_metabolites({\n",
    "    model.metabolites.get_by_id(\"biomass_vit_c\"): -1,\n",
    "})"
   ]
  },
  {
   "cell_type": "markdown",
   "metadata": {},
   "source": [
    "## Open only inorganic exchanges\n",
    "\n",
    "Next, we are going to open only the inorganic exchanges of the model, with the exception of cofactors cobalamin, folate and thiamin, since Pseudo-nitzschia is auxotrophic for all of them. We include Co2 and HCO3 as inorganic carbon sources."
   ]
  },
  {
   "cell_type": "code",
   "execution_count": 6,
   "metadata": {},
   "outputs": [],
   "source": [
    "exchanges_to_include = [\n",
    "    \"EX_adocbl_e\",\n",
    "    \"EX_hco3_e\",\n",
    "    \"EX_co2_e\",\n",
    "    \"EX_thm_e\",\n",
    "    \"EX_fol_e\",\n",
    "    ]\n",
    "\n",
    "model = open_inorganic_exchanges(model, lower_bound=-1000, include=exchanges_to_include)"
   ]
  },
  {
   "cell_type": "code",
   "execution_count": 7,
   "metadata": {},
   "outputs": [
    {
     "data": {
      "text/html": [
       "<strong><em>Optimal</em> solution with objective value 1.434</strong><br><div>\n",
       "<style scoped>\n",
       "    .dataframe tbody tr th:only-of-type {\n",
       "        vertical-align: middle;\n",
       "    }\n",
       "\n",
       "    .dataframe tbody tr th {\n",
       "        vertical-align: top;\n",
       "    }\n",
       "\n",
       "    .dataframe thead th {\n",
       "        text-align: right;\n",
       "    }\n",
       "</style>\n",
       "<table border=\"1\" class=\"dataframe\">\n",
       "  <thead>\n",
       "    <tr style=\"text-align: right;\">\n",
       "      <th></th>\n",
       "      <th>fluxes</th>\n",
       "      <th>reduced_costs</th>\n",
       "    </tr>\n",
       "  </thead>\n",
       "  <tbody>\n",
       "    <tr>\n",
       "      <th>ATPCS_c</th>\n",
       "      <td>0.000000</td>\n",
       "      <td>0.000000e+00</td>\n",
       "    </tr>\n",
       "    <tr>\n",
       "      <th>CISY_m</th>\n",
       "      <td>0.000000</td>\n",
       "      <td>0.000000e+00</td>\n",
       "    </tr>\n",
       "    <tr>\n",
       "      <th>PDH_E1a_h</th>\n",
       "      <td>0.000000</td>\n",
       "      <td>-3.455683e-02</td>\n",
       "    </tr>\n",
       "    <tr>\n",
       "      <th>ADH_c</th>\n",
       "      <td>0.000000</td>\n",
       "      <td>0.000000e+00</td>\n",
       "    </tr>\n",
       "    <tr>\n",
       "      <th>GAPDH_h</th>\n",
       "      <td>248.985383</td>\n",
       "      <td>0.000000e+00</td>\n",
       "    </tr>\n",
       "    <tr>\n",
       "      <th>...</th>\n",
       "      <td>...</td>\n",
       "      <td>...</td>\n",
       "    </tr>\n",
       "    <tr>\n",
       "      <th>AROH</th>\n",
       "      <td>0.530420</td>\n",
       "      <td>0.000000e+00</td>\n",
       "    </tr>\n",
       "    <tr>\n",
       "      <th>EX_adocbl_e</th>\n",
       "      <td>-0.000007</td>\n",
       "      <td>-0.000000e+00</td>\n",
       "    </tr>\n",
       "    <tr>\n",
       "      <th>R_cbl1_transport</th>\n",
       "      <td>0.000007</td>\n",
       "      <td>0.000000e+00</td>\n",
       "    </tr>\n",
       "    <tr>\n",
       "      <th>R_cbl_interconversion_e</th>\n",
       "      <td>-0.000007</td>\n",
       "      <td>-0.000000e+00</td>\n",
       "    </tr>\n",
       "    <tr>\n",
       "      <th>biomass_vit_c</th>\n",
       "      <td>1.434077</td>\n",
       "      <td>-1.998401e-15</td>\n",
       "    </tr>\n",
       "  </tbody>\n",
       "</table>\n",
       "<p>4693 rows × 2 columns</p>\n",
       "</div>"
      ],
      "text/plain": [
       "<Solution 1.434 at 0x7f01a1e87010>"
      ]
     },
     "execution_count": 7,
     "metadata": {},
     "output_type": "execute_result"
    }
   ],
   "source": [
    "model.optimize()"
   ]
  },
  {
   "cell_type": "markdown",
   "metadata": {},
   "source": [
    "## Write modified model to file"
   ]
  },
  {
   "cell_type": "code",
   "execution_count": 8,
   "metadata": {},
   "outputs": [],
   "source": [
    "cobra.io.write_sbml_model(model, \"gems/MAG_00212_pseudonitzschia_photoeuk_noSK.xml\")"
   ]
  }
 ],
 "metadata": {
  "kernelspec": {
   "display_name": "nal",
   "language": "python",
   "name": "python3"
  },
  "language_info": {
   "codemirror_mode": {
    "name": "ipython",
    "version": 3
   },
   "file_extension": ".py",
   "mimetype": "text/x-python",
   "name": "python",
   "nbconvert_exporter": "python",
   "pygments_lexer": "ipython3",
   "version": "3.11.4"
  },
  "orig_nbformat": 4
 },
 "nbformat": 4,
 "nbformat_minor": 2
}
