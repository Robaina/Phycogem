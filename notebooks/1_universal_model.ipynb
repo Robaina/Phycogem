{
 "cells": [
  {
   "cell_type": "markdown",
   "metadata": {},
   "source": [
    "# Building a new universal model for prokaryotes from the BIGG universe\n",
    "\n",
    "Two models: gram-negative and gram-positive. Gram-negative contains: extracellular, periplasm and cytoplasm. Gram-positive only extracellular and cytoplasm.\n",
    "\n",
    "1) Gran-negative, take all reactions that are not in those compartments and move them to cytoplasm. Remove shuttle/transport reactions between compartments that are not in gram neg\n",
    "\n",
    "2) Remove duplicated reactions/metabolites in the model"
   ]
  },
  {
   "cell_type": "code",
   "execution_count": 1,
   "metadata": {},
   "outputs": [],
   "source": [
    "import cobra\n",
    "from cobra import Reaction, Model\n",
    "\n",
    "\n",
    "def remove_shuttle_reactions(model: Model, allowed_compartments: set = {\"c\", \"e\", \"p\"}) -> Model:\n",
    "    \"\"\"\n",
    "    Remove shuttle reactions between unwanted compartments.\n",
    "\n",
    "    Args:\n",
    "        model (Model): _description_\n",
    "        allowed_compartments (set, optional): _description_. Defaults to {\"c\", \"e\", \"p\"}.\n",
    "\n",
    "    Returns:\n",
    "        Model: _description_\n",
    "    \"\"\"\n",
    "    shuttle_rxns_in_unwanted_compartments = [\n",
    "        rxn for rxn in model.reactions\n",
    "        if (\n",
    "            (len(rxn.compartments) > 1) and \n",
    "            (not rxn.compartments.issubset(allowed_compartments))\n",
    "        )\n",
    "        ]\n",
    "    model.remove_reactions(shuttle_rxns_in_unwanted_compartments, remove_orphans=True)\n",
    "    return model\n",
    "\n",
    "def move_reactions_to_cytoplasm(model: Model, allowed_compartments: set = {\"c\", \"e\", \"p\"}) -> Model:\n",
    "    \"\"\"\n",
    "    Update the metabolites of a reaction to include a new set of metabolites\n",
    "    Args:\n",
    "        reaction (Reaction): _description_\n",
    "        allowed_compartments (set, optional): _description_. Defaults to {\"c\", \"e\", \"p\"}.\n",
    "\n",
    "    Returns:\n",
    "        Reaction: _description_\n",
    "    \"\"\"\n",
    "    reactions_to_add = []\n",
    "    reactions_to_remove = []\n",
    "    for reaction in model.reactions:\n",
    "        if not reaction.compartments.issubset(allowed_compartments):\n",
    "\n",
    "            new_metabolites = {}\n",
    "            for metabolite, stoich in reaction.metabolites.items():\n",
    "                new_met_id = metabolite.id[:-1] + 'c'\n",
    "                new_metabolite = model.metabolites.get_by_id(new_met_id) if new_met_id in model.metabolites else metabolite.copy()\n",
    "                new_metabolite.compartment = 'c'\n",
    "                new_metabolite.id = new_met_id\n",
    "                if new_met_id not in model.metabolites:\n",
    "                    model.add_metabolites([new_metabolite])\n",
    "                    model.remove_metabolites([metabolite])\n",
    "                new_metabolites[new_metabolite] = stoich\n",
    "\n",
    "            new_reaction = Reaction(\n",
    "                id=reaction.id,\n",
    "                name=reaction.name,\n",
    "                lower_bound=reaction.lower_bound,\n",
    "                upper_bound=reaction.upper_bound,\n",
    "                subsystem=reaction.subsystem,\n",
    "                )\n",
    "            new_reaction.gene_reaction_rule = reaction.gene_reaction_rule\n",
    "            new_reaction.add_metabolites(new_metabolites)\n",
    "            reactions_to_add.append(new_reaction)\n",
    "            reactions_to_remove.append(reaction)\n",
    "\n",
    "    model.remove_reactions(reactions_to_remove, remove_orphans=True)\n",
    "    model.add_reactions(reactions_to_add)\n",
    "    return model\n",
    "\n",
    "def test_remove_shuttle_reactions(model: Model, allowed_compartments: set = {}) -> bool:\n",
    "    \"\"\"\"\"\"\n",
    "    return True if not [\n",
    "        rxn for rxn in model.reactions if not rxn.compartments.issubset(allowed_compartments)\n",
    "        ] else False"
   ]
  },
  {
   "cell_type": "code",
   "execution_count": 3,
   "metadata": {},
   "outputs": [
    {
     "name": "stdout",
     "output_type": "stream",
     "text": [
      "Set parameter Username\n",
      "Academic license - for non-commercial use only - expires 2023-11-05\n"
     ]
    },
    {
     "data": {
      "text/html": [
       "\n",
       "        <table>\n",
       "            <tr>\n",
       "                <td><strong>Name</strong></td>\n",
       "                <td>bigg_universal</td>\n",
       "            </tr><tr>\n",
       "                <td><strong>Memory address</strong></td>\n",
       "                <td>7f3e3396f350</td>\n",
       "            </tr><tr>\n",
       "                <td><strong>Number of metabolites</strong></td>\n",
       "                <td>15638</td>\n",
       "            </tr><tr>\n",
       "                <td><strong>Number of reactions</strong></td>\n",
       "                <td>28301</td>\n",
       "            </tr><tr>\n",
       "                <td><strong>Number of genes</strong></td>\n",
       "                <td>0</td>\n",
       "            </tr><tr>\n",
       "                <td><strong>Number of groups</strong></td>\n",
       "                <td>0</td>\n",
       "            </tr><tr>\n",
       "                <td><strong>Objective expression</strong></td>\n",
       "                <td>1.0*BIOMASS_reaction - 1.0*BIOMASS_reaction_reverse_5a818</td>\n",
       "            </tr><tr>\n",
       "                <td><strong>Compartments</strong></td>\n",
       "                <td>cytoplasm, extracellular, periplasm, mitochondrion, peroxisome, unknown, nucleus, vacuole, golgi, thylakoid, lysosome, chloroplast, eyespot, flagellum, mitochondrial intermembrane space, unknown, unknown, unknown, unknown, mitochondrial membrane, cell wall, unknown</td>\n",
       "            </tr>\n",
       "          </table>"
      ],
      "text/plain": [
       "<Model bigg_universal at 0x7f3e3396f350>"
      ]
     },
     "execution_count": 3,
     "metadata": {},
     "output_type": "execute_result"
    }
   ],
   "source": [
    "uniprok = cobra.io.read_sbml_model(\"../data/carveme_universes/BIGG_universal_model/universal_model_cobrapy.xml\")\n",
    "uniprok"
   ]
  },
  {
   "cell_type": "markdown",
   "metadata": {},
   "source": [
    "## Remove unwanted shuttle reactions"
   ]
  },
  {
   "cell_type": "code",
   "execution_count": 4,
   "metadata": {},
   "outputs": [
    {
     "data": {
      "text/html": [
       "\n",
       "        <table>\n",
       "            <tr>\n",
       "                <td><strong>Name</strong></td>\n",
       "                <td>bigg_universal</td>\n",
       "            </tr><tr>\n",
       "                <td><strong>Memory address</strong></td>\n",
       "                <td>7f3e3396f350</td>\n",
       "            </tr><tr>\n",
       "                <td><strong>Number of metabolites</strong></td>\n",
       "                <td>15467</td>\n",
       "            </tr><tr>\n",
       "                <td><strong>Number of reactions</strong></td>\n",
       "                <td>25787</td>\n",
       "            </tr><tr>\n",
       "                <td><strong>Number of genes</strong></td>\n",
       "                <td>0</td>\n",
       "            </tr><tr>\n",
       "                <td><strong>Number of groups</strong></td>\n",
       "                <td>0</td>\n",
       "            </tr><tr>\n",
       "                <td><strong>Objective expression</strong></td>\n",
       "                <td>0</td>\n",
       "            </tr><tr>\n",
       "                <td><strong>Compartments</strong></td>\n",
       "                <td>cytoplasm, extracellular, periplasm, mitochondrion, peroxisome, unknown, nucleus, vacuole, golgi, thylakoid, lysosome, chloroplast, eyespot, flagellum, unknown, unknown, cell wall, unknown</td>\n",
       "            </tr>\n",
       "          </table>"
      ],
      "text/plain": [
       "<Model bigg_universal at 0x7f3e3396f350>"
      ]
     },
     "execution_count": 4,
     "metadata": {},
     "output_type": "execute_result"
    }
   ],
   "source": [
    "gramneg_compartments = {\"e\", \"c\", \"p\"}\n",
    "uniprok = remove_shuttle_reactions(uniprok, allowed_compartments=gramneg_compartments)\n",
    "uniprok"
   ]
  },
  {
   "cell_type": "markdown",
   "metadata": {},
   "source": [
    "## Move reactions to cytoplasm"
   ]
  },
  {
   "cell_type": "code",
   "execution_count": 5,
   "metadata": {},
   "outputs": [
    {
     "data": {
      "text/html": [
       "\n",
       "        <table>\n",
       "            <tr>\n",
       "                <td><strong>Name</strong></td>\n",
       "                <td>bigg_universal</td>\n",
       "            </tr><tr>\n",
       "                <td><strong>Memory address</strong></td>\n",
       "                <td>7f3e3396f350</td>\n",
       "            </tr><tr>\n",
       "                <td><strong>Number of metabolites</strong></td>\n",
       "                <td>11970</td>\n",
       "            </tr><tr>\n",
       "                <td><strong>Number of reactions</strong></td>\n",
       "                <td>25787</td>\n",
       "            </tr><tr>\n",
       "                <td><strong>Number of genes</strong></td>\n",
       "                <td>0</td>\n",
       "            </tr><tr>\n",
       "                <td><strong>Number of groups</strong></td>\n",
       "                <td>0</td>\n",
       "            </tr><tr>\n",
       "                <td><strong>Objective expression</strong></td>\n",
       "                <td>0</td>\n",
       "            </tr><tr>\n",
       "                <td><strong>Compartments</strong></td>\n",
       "                <td>cytoplasm, extracellular, periplasm</td>\n",
       "            </tr>\n",
       "          </table>"
      ],
      "text/plain": [
       "<Model bigg_universal at 0x7f3e3396f350>"
      ]
     },
     "execution_count": 5,
     "metadata": {},
     "output_type": "execute_result"
    }
   ],
   "source": [
    "uniprok = move_reactions_to_cytoplasm(uniprok)\n",
    "uniprok"
   ]
  },
  {
   "cell_type": "code",
   "execution_count": 6,
   "metadata": {},
   "outputs": [
    {
     "name": "stdout",
     "output_type": "stream",
     "text": [
      "passed\n"
     ]
    }
   ],
   "source": [
    "# Test if any reaction remains in illegal comparments\n",
    "print(\"passed\" if test_remove_shuttle_reactions(uniprok, gramneg_compartments) else \"failed\")"
   ]
  },
  {
   "cell_type": "markdown",
   "metadata": {},
   "source": [
    "## Annotate metabolites"
   ]
  },
  {
   "cell_type": "code",
   "execution_count": 23,
   "metadata": {},
   "outputs": [],
   "source": [
    "def annotate_compounds(model: Model, cpd_annotations) -> Model:\n",
    "    \"\"\"\n",
    "    Annotate compounds in model: chemical formulae and charge\n",
    "\n",
    "    Args:\n",
    "        model (Model): _description_\n",
    "        cpd_annotations (Path): _description_\n",
    "\n",
    "    Returns:\n",
    "        Model: _description_\n",
    "    \"\"\"\n",
    "    cpd_db = pd.read_csv(cpd_annotations, sep=\"\\t\", index_col=0)\n",
    "    for met in model.metabolites:\n",
    "        met_id = remove_compartment(met.id)\n",
    "        if met_id in cpd_db.index:\n",
    "            met.formula = cpd_db.loc[met_id, \"formula\"]\n",
    "            met.charge = cpd_db.loc[met_id, \"charge\"]\n",
    "    return model\n",
    "\n",
    "\n",
    "cpd_annotations = \"/home/robaina/Documents/NewAtlantis/phycosphere/data/carveme_universes/mnx_compounds.tsv\"\n",
    "uniprok = annotate_compounds(uniprok, cpd_annotations)"
   ]
  },
  {
   "cell_type": "markdown",
   "metadata": {},
   "source": [
    "## Add biomass reaction to universal gram negative model\n",
    "\n",
    "Take reaction from universal CarveME gram negative model"
   ]
  },
  {
   "cell_type": "code",
   "execution_count": 28,
   "metadata": {},
   "outputs": [],
   "source": [
    "carveme_gramneg = cobra.io.read_sbml_model(\"../data/carveme_universes/universe_gramneg.xml\")"
   ]
  },
  {
   "cell_type": "code",
   "execution_count": 29,
   "metadata": {},
   "outputs": [
    {
     "data": {
      "text/html": [
       "\n",
       "        <table>\n",
       "            <tr>\n",
       "                <td><strong>Name</strong></td>\n",
       "                <td>bigg_universal</td>\n",
       "            </tr><tr>\n",
       "                <td><strong>Memory address</strong></td>\n",
       "                <td>7f3e3396f350</td>\n",
       "            </tr><tr>\n",
       "                <td><strong>Number of metabolites</strong></td>\n",
       "                <td>11970</td>\n",
       "            </tr><tr>\n",
       "                <td><strong>Number of reactions</strong></td>\n",
       "                <td>25788</td>\n",
       "            </tr><tr>\n",
       "                <td><strong>Number of genes</strong></td>\n",
       "                <td>0</td>\n",
       "            </tr><tr>\n",
       "                <td><strong>Number of groups</strong></td>\n",
       "                <td>0</td>\n",
       "            </tr><tr>\n",
       "                <td><strong>Objective expression</strong></td>\n",
       "                <td>1.0*Growth - 1.0*Growth_reverse_699ae</td>\n",
       "            </tr><tr>\n",
       "                <td><strong>Compartments</strong></td>\n",
       "                <td>cytoplasm, extracellular, periplasm</td>\n",
       "            </tr>\n",
       "          </table>"
      ],
      "text/plain": [
       "<Model bigg_universal at 0x7f3e3396f350>"
      ]
     },
     "execution_count": 29,
     "metadata": {},
     "output_type": "execute_result"
    }
   ],
   "source": [
    "growth = carveme_gramneg.reactions.get_by_id(\"Growth\")\n",
    "uniprok.add_reactions([growth])\n",
    "uniprok.objective = \"Growth\"\n",
    "uniprok"
   ]
  },
  {
   "cell_type": "code",
   "execution_count": 30,
   "metadata": {},
   "outputs": [
    {
     "ename": "AttributeError",
     "evalue": "'Model' object has no attribute 'open_exchanges'",
     "output_type": "error",
     "traceback": [
      "\u001b[0;31m---------------------------------------------------------------------------\u001b[0m",
      "\u001b[0;31mAttributeError\u001b[0m                            Traceback (most recent call last)",
      "Cell \u001b[0;32mIn[30], line 2\u001b[0m\n\u001b[1;32m      1\u001b[0m \u001b[39m# Open exchanges\u001b[39;00m\n\u001b[0;32m----> 2\u001b[0m uniprok\u001b[39m.\u001b[39;49mopen_exchanges()\n",
      "\u001b[0;31mAttributeError\u001b[0m: 'Model' object has no attribute 'open_exchanges'"
     ]
    }
   ],
   "source": [
    "# Open exchanges\n",
    "uniprok.open_exchanges()"
   ]
  },
  {
   "cell_type": "code",
   "execution_count": 31,
   "metadata": {},
   "outputs": [
    {
     "data": {
      "text/html": [
       "<h3>Objective</h3><p>1.0 Growth = 0.0</p><h4>Uptake</h4><table border=\"1\" class=\"dataframe\">\n",
       "  <thead>\n",
       "    <tr style=\"text-align: right;\">\n",
       "      <th>Metabolite</th>\n",
       "      <th>Reaction</th>\n",
       "      <th>Flux</th>\n",
       "      <th>C-Number</th>\n",
       "      <th>C-Flux</th>\n",
       "    </tr>\n",
       "  </thead>\n",
       "  <tbody>\n",
       "  </tbody>\n",
       "</table><h4>Secretion</h4><table border=\"1\" class=\"dataframe\">\n",
       "  <thead>\n",
       "    <tr style=\"text-align: right;\">\n",
       "      <th>Metabolite</th>\n",
       "      <th>Reaction</th>\n",
       "      <th>Flux</th>\n",
       "      <th>C-Number</th>\n",
       "      <th>C-Flux</th>\n",
       "    </tr>\n",
       "  </thead>\n",
       "  <tbody>\n",
       "  </tbody>\n",
       "</table>"
      ],
      "text/plain": [
       "<cobra.summary.model_summary.ModelSummary at 0x7f3e2e517f10>"
      ]
     },
     "execution_count": 31,
     "metadata": {},
     "output_type": "execute_result"
    }
   ],
   "source": [
    "# Test growth\n",
    "uniprok.summary()"
   ]
  },
  {
   "cell_type": "markdown",
   "metadata": {},
   "source": [
    "## Run memote"
   ]
  },
  {
   "cell_type": "code",
   "execution_count": 8,
   "metadata": {},
   "outputs": [],
   "source": [
    "# cobra.io.write_sbml_model(uniprok, \"carveme_universes/universal_gramnegative.xml\")"
   ]
  },
  {
   "cell_type": "code",
   "execution_count": 11,
   "metadata": {},
   "outputs": [
    {
     "name": "stdout",
     "output_type": "stream",
     "text": [
      "Set parameter Username\n"
     ]
    },
    {
     "name": "stderr",
     "output_type": "stream",
     "text": [
      "Set parameter Username\n"
     ]
    },
    {
     "name": "stdout",
     "output_type": "stream",
     "text": [
      "Academic license - for non-commercial use only - expires 2023-11-05\n"
     ]
    },
    {
     "name": "stderr",
     "output_type": "stream",
     "text": [
      "Academic license - for non-commercial use only - expires 2023-11-05\n"
     ]
    }
   ],
   "source": [
    "# %%bash\n",
    "\n",
    "# memote run \\\n",
    "#     --filename carveme_universes/universal_gramnegative_report.json \\\n",
    "#     --ignore-git \\\n",
    "#     carveme_universes/universal_gramnegative.xml"
   ]
  },
  {
   "cell_type": "markdown",
   "metadata": {},
   "source": [
    "## Remove duplicated reactions\n",
    "\n",
    "__NOTE__:\n",
    "\n",
    "Perhaps makes more sense to remove duplicated reactions after carving since reactions in the universal model have no associated genes. Thus reactions catalyzed by different enzymes are targeted as duplicated by memote."
   ]
  },
  {
   "cell_type": "code",
   "execution_count": null,
   "metadata": {},
   "outputs": [],
   "source": [
    "import json\n",
    "from pathlib import Path\n",
    "from cobra import Model\n",
    "\n",
    "\n",
    "# Implemented in memote\n",
    "def get_duplicated_reactions(memote_report: Path) -> list[list]:\n",
    "    \"\"\"Retrieve duplicated reactions from memote report\n",
    "\n",
    "    Args:\n",
    "        memote_report (Path): path to report (JSON file)\n",
    "\n",
    "    Returns:\n",
    "        list: list of lists of duplicated reaction pair IDs\n",
    "    \"\"\"\n",
    "    with open(memote_report, \"r\") as f:\n",
    "        report = json.load(f)\n",
    "    tests = report[\"tests\"]\n",
    "    return tests[\"test_find_duplicated_reactions\"][\"data\"]\n",
    "\n",
    "def remove_duplicated_reactions(\n",
    "        model: Model,\n",
    "        duplicated_reactions: list[list],\n",
    "        inplace: bool = True) -> Model:\n",
    "    \"\"\"Remove duplicated reactions from model\n",
    "\n",
    "    Args:\n",
    "        model (Model): cobra model object\n",
    "        duplicated_reactions (list[list]):list lists of duplicated pairs\n",
    "        inplace (bool, optional): removes reactions in the input model or return a new one.\n",
    "            Defaults to True.\n",
    "\n",
    "    Returns:\n",
    "        Model: model object without duplicated reactions\n",
    "    \"\"\"\n",
    "    if not inplace:\n",
    "        result_model = model.copy()\n",
    "    else:\n",
    "        result_model = model\n",
    "    reactions_to_remove = [rxn_pair[0] for rxn_pair in duplicated_reactions]\n",
    "    result_model.remove_reactions(reactions_to_remove, remove_orphans=True)\n",
    "    return result_model\n",
    "\n",
    "\n",
    "# unineg_report = Path(\"carveme_universes/universal_gramnegative_report.json\")\n",
    "# unineg_duplicated_rxns = get_duplicated_reactions(unineg_report)\n",
    "# unineg_duplicated_rxns\n"
   ]
  },
  {
   "cell_type": "code",
   "execution_count": null,
   "metadata": {},
   "outputs": [],
   "source": [
    "# unineg = remove_duplicated_reactions(unineg, unineg_duplicated_rxns)"
   ]
  },
  {
   "cell_type": "code",
   "execution_count": 1,
   "metadata": {},
   "outputs": [],
   "source": [
    "# import numpy as np\n",
    "\n",
    "\n",
    "# def find_duplicated_reactions(model: Model) -> list[tuple]:\n",
    "#     \"\"\"Find duplicated reactions in a model.\"\"\"\n",
    "#     duplicated_reactions = []\n",
    "#     for rxn_i in model.reactions:\n",
    "#         dup_i = {rxn_j for rxn_j in model.reactions if rxn_i.metabolites == rxn_j.metabolites}.add(rxn_i)\n",
    "#     duplicated_reactions.append(dup_i)\n",
    "#     return list(np.unique(duplicated_reactions))\n",
    "\n",
    "\n",
    "# unineg_duplicated_rxns = find_duplicated_reactions(unineg)\n",
    "# unineg_duplicated_rxns"
   ]
  },
  {
   "cell_type": "markdown",
   "metadata": {},
   "source": [
    "## Write universal model"
   ]
  },
  {
   "cell_type": "code",
   "execution_count": 34,
   "metadata": {},
   "outputs": [],
   "source": [
    "cobra.io.write_sbml_model(uniprok, \"../data/carveme_universes/universal_prokaryote.xml\")"
   ]
  }
 ],
 "metadata": {
  "kernelspec": {
   "display_name": "nal",
   "language": "python",
   "name": "python3"
  },
  "language_info": {
   "codemirror_mode": {
    "name": "ipython",
    "version": 3
   },
   "file_extension": ".py",
   "mimetype": "text/x-python",
   "name": "python",
   "nbconvert_exporter": "python",
   "pygments_lexer": "ipython3",
   "version": "3.11.4"
  },
  "orig_nbformat": 4
 },
 "nbformat": 4,
 "nbformat_minor": 2
}
