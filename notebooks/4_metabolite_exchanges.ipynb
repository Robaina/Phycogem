{
 "cells": [
  {
   "cell_type": "markdown",
   "metadata": {},
   "source": [
    "# Finding putative metabolite interactions\n",
    "\n",
    "We will employ [SMETANA]() through its [Python implementation]() to find putative metabolic interactions among the set of models in our use case: a phycosphere microbiome composed of the diatom: Pseudo-nitzschia sp., and the bacterial partners: Sulfitobacter sp., Alteromonas sp., Marinobacter sp., and Polaribacter sp.\n",
    "\n",
    "To this end, we will simulate a marine medium containing only inorganic componets, as vitamins and cofactors will be synthesized by the bacterial partners, while the diatom will provide the carbon source."
   ]
  },
  {
   "cell_type": "markdown",
   "metadata": {},
   "source": [
    "## Which bacterial partners are producing Pseudo-nitzschia essential cofactors?\n",
    "\n",
    "* Adenosylcobalamin (adocbl): _Sulfitobacter sp._\n",
    "* Folate (fol): _?_\n",
    "* Thiamin (thm): _?_ https://www.frontiersin.org/articles/10.3389/fmars.2020.606342/full\n",
    "\n",
    "\n",
    "It seems like none of the reconstructed GEMs are producing thiamin and folate per se, but rather importing. Is this a limitation of the universal model or are these species really auxotrophs for them?"
   ]
  },
  {
   "cell_type": "markdown",
   "metadata": {},
   "source": [
    "| Model | B12 (adocbl) | B1 (thm) | Folate |\n",
    "|-------|----------|----------|--------|\n",
    "| Sulfitobacter   | +   | -   | -   |\n",
    "| Alteromonas   | -   | -   | -   |\n",
    "| Marinobacter   | -   | -   | -   |\n",
    "| Polaribacter   | -   | -   | -   |"
   ]
  },
  {
   "cell_type": "code",
   "execution_count": 35,
   "metadata": {},
   "outputs": [
    {
     "name": "stdout",
     "output_type": "stream",
     "text": [
      "Set parameter Username\n",
      "Academic license - for non-commercial use only - expires 2023-11-05\n"
     ]
    },
    {
     "name": "stderr",
     "output_type": "stream",
     "text": [
      "/home/robaina/.local/lib/python3.8/site-packages/reframed/core/elements.py:62: UserWarning: Atomic weight not listed for elements: {'Z'}\n",
      "  warn(f\"Atomic weight not listed for elements: {missing}\")\n"
     ]
    }
   ],
   "source": [
    "%%bash\n",
    "\n",
    "smetana \\\n",
    "    ../results/models/*.xml \\\n",
    "    -m MARINE \\\n",
    "    --mediadb ../data/marine_media/media_db.tsv \\\n",
    "    -o ../results/pseudo_nitzschia_interactions \\\n",
    "    --solver gurobi \\\n",
    "    --exclude ../data/compounds/inorganic.txt \\\n",
    "    --molweight --detailed"
   ]
  },
  {
   "cell_type": "code",
   "execution_count": 37,
   "metadata": {},
   "outputs": [
    {
     "data": {
      "text/html": [
       "<div>\n",
       "<style scoped>\n",
       "    .dataframe tbody tr th:only-of-type {\n",
       "        vertical-align: middle;\n",
       "    }\n",
       "\n",
       "    .dataframe tbody tr th {\n",
       "        vertical-align: top;\n",
       "    }\n",
       "\n",
       "    .dataframe thead th {\n",
       "        text-align: right;\n",
       "    }\n",
       "</style>\n",
       "<table border=\"1\" class=\"dataframe\">\n",
       "  <thead>\n",
       "    <tr style=\"text-align: right;\">\n",
       "      <th></th>\n",
       "      <th>community</th>\n",
       "      <th>medium</th>\n",
       "      <th>receiver</th>\n",
       "      <th>donor</th>\n",
       "      <th>compound</th>\n",
       "      <th>scs</th>\n",
       "      <th>mus</th>\n",
       "      <th>mps</th>\n",
       "      <th>smetana</th>\n",
       "    </tr>\n",
       "  </thead>\n",
       "  <tbody>\n",
       "  </tbody>\n",
       "</table>\n",
       "</div>"
      ],
      "text/plain": [
       "Empty DataFrame\n",
       "Columns: [community, medium, receiver, donor, compound, scs, mus, mps, smetana]\n",
       "Index: []"
      ]
     },
     "execution_count": 37,
     "metadata": {},
     "output_type": "execute_result"
    }
   ],
   "source": [
    "import pandas as pd\n",
    "\n",
    "\n",
    "df = pd.read_csv(\"../results/pseudo_nitzschia_interactions_detailed.tsv\", sep=\"\\t\")\n",
    "df"
   ]
  },
  {
   "cell_type": "markdown",
   "metadata": {},
   "source": [
    "## Which compounds can PS secrete?"
   ]
  },
  {
   "cell_type": "code",
   "execution_count": 41,
   "metadata": {},
   "outputs": [],
   "source": [
    "import cobra \n",
    "\n",
    "\n",
    "model = cobra.io.read_sbml_model(\"../results/models/MAG_00212_pseudonitzschia_photoeuk_noSK.xml\")"
   ]
  },
  {
   "cell_type": "code",
   "execution_count": 5,
   "metadata": {},
   "outputs": [
    {
     "data": {
      "text/html": [
       "\n",
       "        <table>\n",
       "            <tr>\n",
       "                <td><strong>Metabolite identifier</strong></td><td>CPD-15199_c</td>\n",
       "            </tr><tr>\n",
       "                <td><strong>Name</strong></td><td>5-deoxy-&alpha;-ribose 1-phosphate</td>\n",
       "            </tr><tr>\n",
       "                <td><strong>Memory address</strong></td>\n",
       "                <td>0x7fc6c0ec93d0</td>\n",
       "            </tr><tr>\n",
       "                <td><strong>Formula</strong></td><td>C5H9O7P</td>\n",
       "            </tr><tr>\n",
       "                <td><strong>Compartment</strong></td><td>c</td>\n",
       "            </tr><tr>\n",
       "                <td><strong>In 2 reaction(s)</strong></td><td>\n",
       "                    RXN-14304, DM_CPD-15199_c\n",
       "                    </td>\n",
       "            </tr>\n",
       "        </table>"
      ],
      "text/plain": [
       "<Metabolite CPD-15199_c at 0x7fc6c0ec93d0>"
      ]
     },
     "execution_count": 5,
     "metadata": {},
     "output_type": "execute_result"
    }
   ],
   "source": [
    "model.reactions.get_by_id(\"EX_tsul_e\")\n",
    "model.metabolites.get_by_id(\"CPD-15199_c\")"
   ]
  },
  {
   "cell_type": "code",
   "execution_count": 42,
   "metadata": {},
   "outputs": [],
   "source": [
    "import re \n",
    "from cobra.core import Model\n",
    "\n",
    "\n",
    "def extract_chemical_elements(formula: str) -> dict:\n",
    "    \"\"\"\n",
    "    Extract the chemical components from a chemical formula.\n",
    "    \"\"\"\n",
    "    components = re.findall(r\"([A-Z][a-z]*)(\\d*)\", formula)\n",
    "    component_dict = {}\n",
    "    for element, count in components:\n",
    "        component_dict[element] = int(count) if count else 1\n",
    "    return component_dict\n",
    "\n",
    "\n",
    "def get_organic_exchanges(model: Model, exclude: list = None) -> list[str]:\n",
    "    \"\"\"\n",
    "    Get IDs of all organic exchanges in a model.\n",
    "\n",
    "    Parameters\n",
    "    ----------\n",
    "    model : cobra.Model\n",
    "        Model to get exchanges from.\n",
    "\n",
    "    Returns\n",
    "    -------\n",
    "    list\n",
    "        List of exchange IDs.\n",
    "    \"\"\"\n",
    "    organic_exchanges = []\n",
    "    for rxn in model.exchanges:\n",
    "        met = [met for met in rxn.metabolites][0]\n",
    "        if met.formula is not None:\n",
    "            chemical_elements = extract_chemical_elements(met.formula)\n",
    "            if \"C\" in chemical_elements:\n",
    "                organic_exchanges.append(rxn.id)\n",
    "    return organic_exchanges\n",
    "\n",
    "\n",
    "carbon_exchanges = get_organic_exchanges(model)"
   ]
  },
  {
   "cell_type": "code",
   "execution_count": 45,
   "metadata": {},
   "outputs": [],
   "source": [
    "from cobra.flux_analysis.variability import flux_variability_analysis, find_blocked_reactions\n",
    "\n",
    "\n",
    "\n",
    "fva_ex = flux_variability_analysis(model, reaction_list=carbon_exchanges, loopless=False, fraction_of_optimum=0.99)"
   ]
  },
  {
   "cell_type": "code",
   "execution_count": 46,
   "metadata": {},
   "outputs": [
    {
     "data": {
      "text/html": [
       "<div>\n",
       "<style scoped>\n",
       "    .dataframe tbody tr th:only-of-type {\n",
       "        vertical-align: middle;\n",
       "    }\n",
       "\n",
       "    .dataframe tbody tr th {\n",
       "        vertical-align: top;\n",
       "    }\n",
       "\n",
       "    .dataframe thead th {\n",
       "        text-align: right;\n",
       "    }\n",
       "</style>\n",
       "<table border=\"1\" class=\"dataframe\">\n",
       "  <thead>\n",
       "    <tr style=\"text-align: right;\">\n",
       "      <th></th>\n",
       "      <th>minimum</th>\n",
       "      <th>maximum</th>\n",
       "    </tr>\n",
       "  </thead>\n",
       "  <tbody>\n",
       "    <tr>\n",
       "      <th>EX_glyclt_e</th>\n",
       "      <td>0.0</td>\n",
       "      <td>0.829982</td>\n",
       "    </tr>\n",
       "    <tr>\n",
       "      <th>EX_glc_e</th>\n",
       "      <td>0.0</td>\n",
       "      <td>0.207495</td>\n",
       "    </tr>\n",
       "    <tr>\n",
       "      <th>EX_tcynt_e</th>\n",
       "      <td>0.0</td>\n",
       "      <td>0.355706</td>\n",
       "    </tr>\n",
       "    <tr>\n",
       "      <th>EX_lac_d_e</th>\n",
       "      <td>0.0</td>\n",
       "      <td>0.414991</td>\n",
       "    </tr>\n",
       "    <tr>\n",
       "      <th>EX_etoh_e</th>\n",
       "      <td>0.0</td>\n",
       "      <td>0.829982</td>\n",
       "    </tr>\n",
       "    <tr>\n",
       "      <th>...</th>\n",
       "      <td>...</td>\n",
       "      <td>...</td>\n",
       "    </tr>\n",
       "    <tr>\n",
       "      <th>EX_ser_L_e</th>\n",
       "      <td>0.0</td>\n",
       "      <td>0.414991</td>\n",
       "    </tr>\n",
       "    <tr>\n",
       "      <th>EX_13dpg_e</th>\n",
       "      <td>0.0</td>\n",
       "      <td>0.414991</td>\n",
       "    </tr>\n",
       "    <tr>\n",
       "      <th>EX_2aobut_e</th>\n",
       "      <td>0.0</td>\n",
       "      <td>0.414991</td>\n",
       "    </tr>\n",
       "    <tr>\n",
       "      <th>EX_ala_B_e</th>\n",
       "      <td>0.0</td>\n",
       "      <td>0.355706</td>\n",
       "    </tr>\n",
       "    <tr>\n",
       "      <th>EX_CPD-18352_e</th>\n",
       "      <td>0.0</td>\n",
       "      <td>0.043683</td>\n",
       "    </tr>\n",
       "  </tbody>\n",
       "</table>\n",
       "<p>104 rows × 2 columns</p>\n",
       "</div>"
      ],
      "text/plain": [
       "                minimum   maximum\n",
       "EX_glyclt_e         0.0  0.829982\n",
       "EX_glc_e            0.0  0.207495\n",
       "EX_tcynt_e          0.0  0.355706\n",
       "EX_lac_d_e          0.0  0.414991\n",
       "EX_etoh_e           0.0  0.829982\n",
       "...                 ...       ...\n",
       "EX_ser_L_e          0.0  0.414991\n",
       "EX_13dpg_e          0.0  0.414991\n",
       "EX_2aobut_e         0.0  0.414991\n",
       "EX_ala_B_e          0.0  0.355706\n",
       "EX_CPD-18352_e      0.0  0.043683\n",
       "\n",
       "[104 rows x 2 columns]"
      ]
     },
     "execution_count": 46,
     "metadata": {},
     "output_type": "execute_result"
    }
   ],
   "source": [
    "fva_ex[fva_ex.maximum > 0]"
   ]
  }
 ],
 "metadata": {
  "kernelspec": {
   "display_name": "nal",
   "language": "python",
   "name": "python3"
  },
  "language_info": {
   "codemirror_mode": {
    "name": "ipython",
    "version": 3
   },
   "file_extension": ".py",
   "mimetype": "text/x-python",
   "name": "python",
   "nbconvert_exporter": "python",
   "pygments_lexer": "ipython3",
   "version": "3.11.4"
  },
  "orig_nbformat": 4
 },
 "nbformat": 4,
 "nbformat_minor": 2
}
