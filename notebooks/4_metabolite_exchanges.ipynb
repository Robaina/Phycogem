{
 "cells": [
  {
   "cell_type": "markdown",
   "metadata": {},
   "source": [
    "# Finding putative metabolite interactions\n",
    "\n",
    "We will employ [SMETANA]() through its [Python implementation]() to find putative metabolic interactions among the set of models in our use case: a phycosphere microbiome composed of the diatom: Pseudo-nitzschia sp., and the bacterial partners: Sulfitobacter sp., Alteromonas sp., Marinobacter sp., and Polaribacter sp.\n",
    "\n",
    "To this end, we will simulate a marine medium containing only inorganic componets, as vitamins and cofactors will be synthesized by the bacterial partners, while the diatom will provide the carbon source."
   ]
  },
  {
   "cell_type": "markdown",
   "metadata": {},
   "source": [
    "## Which bacterial partners are producing Pseudo-nitzschia essential cofactors?\n",
    "\n",
    "* Adenosylcobalamin (adocbl): _Sulfitobacter sp._\n",
    "* Folate (fol): _?_\n",
    "* Thiamin (thm): _?_ https://www.frontiersin.org/articles/10.3389/fmars.2020.606342/full\n",
    "\n",
    "\n",
    "It seems like none of the reconstructed GEMs are producing thiamin and folate per se, but rather importing. Is this a limitation of the universal model or are these species really auxotrophs for them?"
   ]
  },
  {
   "cell_type": "markdown",
   "metadata": {},
   "source": [
    "| Model | B12 (adocbl) | B1 (thm) | Folate |\n",
    "|-------|----------|----------|--------|\n",
    "| Sulfitobacter (00083)   | +   | -   | -   |\n",
    "| Alteromonas (00080)   | -   | -   | -   |\n",
    "| Marinobacter (00174)   | -   | -   | -   |\n",
    "| Polaribacter (00201)   | -   | -   | -   |\n",
    "| Pseudo-nitzschia (00212)   | -   | -   | -   |"
   ]
  },
  {
   "cell_type": "code",
   "execution_count": 36,
   "metadata": {},
   "outputs": [
    {
     "name": "stdout",
     "output_type": "stream",
     "text": [
      "Set parameter Username\n",
      "Academic license - for non-commercial use only - expires 2023-11-05\n"
     ]
    }
   ],
   "source": [
    "%%bash\n",
    "\n",
    "smetana \\\n",
    "    ../results/models/*.xml \\\n",
    "    -m MARINE \\\n",
    "    --mediadb ../data/marine_media/media_db.tsv \\\n",
    "    -o ../results/pseudo_nitzschia_interactions \\\n",
    "    --solver gurobi \\\n",
    "    --detailed\n",
    "    # --exclude ../data/compounds/inorganic.txt \\ --molweight"
   ]
  },
  {
   "cell_type": "code",
   "execution_count": 1,
   "metadata": {},
   "outputs": [
    {
     "name": "stderr",
     "output_type": "stream",
     "text": [
      "Traceback (most recent call last):\n",
      "  File \"/home/robaina/.local/bin/smetana\", line 89, in <module>\n",
      "    main(\n",
      "  File \"/home/robaina/.local/lib/python3.8/site-packages/smetana/interface.py\", line 345, in main\n",
      "    entries = run_detailed(comm_id, community, medium_id, excluded_mets, env, verbose, min_mol_weight,\n",
      "  File \"/home/robaina/.local/lib/python3.8/site-packages/smetana/interface.py\", line 174, in run_detailed\n",
      "    scs = sc_score(community, environment=env, verbose=verbose)\n",
      "  File \"/home/robaina/.local/lib/python3.8/site-packages/smetana/smetana.py\", line 97, in sc_score\n",
      "    sols = solver.solve(objective, minimize=True, get_values=list(objective.keys()),\n",
      "  File \"/home/robaina/.local/lib/python3.8/site-packages/reframed/solvers/pulp_solver.py\", line 231, in solve\n",
      "    raise Exception('Solution pool not implemented for PuLP wrapper.')\n",
      "Exception: Solution pool not implemented for PuLP wrapper.\n"
     ]
    },
    {
     "ename": "CalledProcessError",
     "evalue": "Command 'b'\\nsmetana \\\\\\n    ../results/models/*.xml \\\\\\n    -m MARINE \\\\\\n    --mediadb ../data/marine_media/media_db.tsv \\\\\\n    -o ../results/pseudo_nitzschia_interactions \\\\\\n    --solver scip \\\\\\n    --detailed\\n    # --exclude ../data/compounds/inorganic.txt \\\\ --molweight\\n'' returned non-zero exit status 1.",
     "output_type": "error",
     "traceback": [
      "\u001b[0;31m---------------------------------------------------------------------------\u001b[0m",
      "\u001b[0;31mCalledProcessError\u001b[0m                        Traceback (most recent call last)",
      "Cell \u001b[0;32mIn[1], line 1\u001b[0m\n\u001b[0;32m----> 1\u001b[0m get_ipython()\u001b[39m.\u001b[39;49mrun_cell_magic(\u001b[39m'\u001b[39;49m\u001b[39mbash\u001b[39;49m\u001b[39m'\u001b[39;49m, \u001b[39m'\u001b[39;49m\u001b[39m'\u001b[39;49m, \u001b[39m'\u001b[39;49m\u001b[39m\\n\u001b[39;49;00m\u001b[39msmetana \u001b[39;49m\u001b[39m\\\\\u001b[39;49;00m\u001b[39m\\n\u001b[39;49;00m\u001b[39m    ../results/models/*.xml \u001b[39;49m\u001b[39m\\\\\u001b[39;49;00m\u001b[39m\\n\u001b[39;49;00m\u001b[39m    -m MARINE \u001b[39;49m\u001b[39m\\\\\u001b[39;49;00m\u001b[39m\\n\u001b[39;49;00m\u001b[39m    --mediadb ../data/marine_media/media_db.tsv \u001b[39;49m\u001b[39m\\\\\u001b[39;49;00m\u001b[39m\\n\u001b[39;49;00m\u001b[39m    -o ../results/pseudo_nitzschia_interactions \u001b[39;49m\u001b[39m\\\\\u001b[39;49;00m\u001b[39m\\n\u001b[39;49;00m\u001b[39m    --solver scip \u001b[39;49m\u001b[39m\\\\\u001b[39;49;00m\u001b[39m\\n\u001b[39;49;00m\u001b[39m    --detailed\u001b[39;49m\u001b[39m\\n\u001b[39;49;00m\u001b[39m    # --exclude ../data/compounds/inorganic.txt \u001b[39;49m\u001b[39m\\\\\u001b[39;49;00m\u001b[39m --molweight\u001b[39;49m\u001b[39m\\n\u001b[39;49;00m\u001b[39m'\u001b[39;49m)\n",
      "File \u001b[0;32m~/miniconda3/envs/phycogem/lib/python3.11/site-packages/IPython/core/interactiveshell.py:2478\u001b[0m, in \u001b[0;36mInteractiveShell.run_cell_magic\u001b[0;34m(self, magic_name, line, cell)\u001b[0m\n\u001b[1;32m   2476\u001b[0m \u001b[39mwith\u001b[39;00m \u001b[39mself\u001b[39m\u001b[39m.\u001b[39mbuiltin_trap:\n\u001b[1;32m   2477\u001b[0m     args \u001b[39m=\u001b[39m (magic_arg_s, cell)\n\u001b[0;32m-> 2478\u001b[0m     result \u001b[39m=\u001b[39m fn(\u001b[39m*\u001b[39;49margs, \u001b[39m*\u001b[39;49m\u001b[39m*\u001b[39;49mkwargs)\n\u001b[1;32m   2480\u001b[0m \u001b[39m# The code below prevents the output from being displayed\u001b[39;00m\n\u001b[1;32m   2481\u001b[0m \u001b[39m# when using magics with decodator @output_can_be_silenced\u001b[39;00m\n\u001b[1;32m   2482\u001b[0m \u001b[39m# when the last Python token in the expression is a ';'.\u001b[39;00m\n\u001b[1;32m   2483\u001b[0m \u001b[39mif\u001b[39;00m \u001b[39mgetattr\u001b[39m(fn, magic\u001b[39m.\u001b[39mMAGIC_OUTPUT_CAN_BE_SILENCED, \u001b[39mFalse\u001b[39;00m):\n",
      "File \u001b[0;32m~/miniconda3/envs/phycogem/lib/python3.11/site-packages/IPython/core/magics/script.py:154\u001b[0m, in \u001b[0;36mScriptMagics._make_script_magic.<locals>.named_script_magic\u001b[0;34m(line, cell)\u001b[0m\n\u001b[1;32m    152\u001b[0m \u001b[39melse\u001b[39;00m:\n\u001b[1;32m    153\u001b[0m     line \u001b[39m=\u001b[39m script\n\u001b[0;32m--> 154\u001b[0m \u001b[39mreturn\u001b[39;00m \u001b[39mself\u001b[39;49m\u001b[39m.\u001b[39;49mshebang(line, cell)\n",
      "File \u001b[0;32m~/miniconda3/envs/phycogem/lib/python3.11/site-packages/IPython/core/magics/script.py:314\u001b[0m, in \u001b[0;36mScriptMagics.shebang\u001b[0;34m(self, line, cell)\u001b[0m\n\u001b[1;32m    309\u001b[0m \u001b[39mif\u001b[39;00m args\u001b[39m.\u001b[39mraise_error \u001b[39mand\u001b[39;00m p\u001b[39m.\u001b[39mreturncode \u001b[39m!=\u001b[39m \u001b[39m0\u001b[39m:\n\u001b[1;32m    310\u001b[0m     \u001b[39m# If we get here and p.returncode is still None, we must have\u001b[39;00m\n\u001b[1;32m    311\u001b[0m     \u001b[39m# killed it but not yet seen its return code. We don't wait for it,\u001b[39;00m\n\u001b[1;32m    312\u001b[0m     \u001b[39m# in case it's stuck in uninterruptible sleep. -9 = SIGKILL\u001b[39;00m\n\u001b[1;32m    313\u001b[0m     rc \u001b[39m=\u001b[39m p\u001b[39m.\u001b[39mreturncode \u001b[39mor\u001b[39;00m \u001b[39m-\u001b[39m\u001b[39m9\u001b[39m\n\u001b[0;32m--> 314\u001b[0m     \u001b[39mraise\u001b[39;00m CalledProcessError(rc, cell)\n",
      "\u001b[0;31mCalledProcessError\u001b[0m: Command 'b'\\nsmetana \\\\\\n    ../results/models/*.xml \\\\\\n    -m MARINE \\\\\\n    --mediadb ../data/marine_media/media_db.tsv \\\\\\n    -o ../results/pseudo_nitzschia_interactions \\\\\\n    --solver scip \\\\\\n    --detailed\\n    # --exclude ../data/compounds/inorganic.txt \\\\ --molweight\\n'' returned non-zero exit status 1."
     ]
    }
   ],
   "source": [
    "%%bash\n",
    "\n",
    "smetana \\\n",
    "    ../results/models/*.xml \\\n",
    "    -m MARINE \\\n",
    "    --mediadb ../data/marine_media/media_db.tsv \\\n",
    "    -o ../results/pseudo_nitzschia_interactions \\\n",
    "    --solver scip \\\n",
    "    --detailed\n",
    "    # --exclude ../data/compounds/inorganic.txt \\ --molweight"
   ]
  },
  {
   "cell_type": "code",
   "execution_count": 37,
   "metadata": {},
   "outputs": [
    {
     "data": {
      "text/html": [
       "<div>\n",
       "<style scoped>\n",
       "    .dataframe tbody tr th:only-of-type {\n",
       "        vertical-align: middle;\n",
       "    }\n",
       "\n",
       "    .dataframe tbody tr th {\n",
       "        vertical-align: top;\n",
       "    }\n",
       "\n",
       "    .dataframe thead th {\n",
       "        text-align: right;\n",
       "    }\n",
       "</style>\n",
       "<table border=\"1\" class=\"dataframe\">\n",
       "  <thead>\n",
       "    <tr style=\"text-align: right;\">\n",
       "      <th></th>\n",
       "      <th>community</th>\n",
       "      <th>medium</th>\n",
       "      <th>receiver</th>\n",
       "      <th>donor</th>\n",
       "      <th>compound</th>\n",
       "      <th>scs</th>\n",
       "      <th>mus</th>\n",
       "      <th>mps</th>\n",
       "      <th>smetana</th>\n",
       "    </tr>\n",
       "  </thead>\n",
       "  <tbody>\n",
       "  </tbody>\n",
       "</table>\n",
       "</div>"
      ],
      "text/plain": [
       "Empty DataFrame\n",
       "Columns: [community, medium, receiver, donor, compound, scs, mus, mps, smetana]\n",
       "Index: []"
      ]
     },
     "execution_count": 37,
     "metadata": {},
     "output_type": "execute_result"
    }
   ],
   "source": [
    "import pandas as pd\n",
    "\n",
    "\n",
    "df = pd.read_csv(\"../results/pseudo_nitzschia_interactions_detailed.tsv\", sep=\"\\t\")\n",
    "df"
   ]
  },
  {
   "cell_type": "markdown",
   "metadata": {},
   "source": [
    "Interesting, adding Pseudo-nitzschia removes interactions rather than creating more. Something to do with the medium?"
   ]
  },
  {
   "cell_type": "markdown",
   "metadata": {},
   "source": [
    "## Which compounds can PS secrete?"
   ]
  },
  {
   "cell_type": "code",
   "execution_count": 38,
   "metadata": {},
   "outputs": [],
   "source": [
    "import cobra \n",
    "\n",
    "models = {}\n",
    "models[\"ps\"] = cobra.io.read_sbml_model(\"../results/models/MAG_00212_pseudonitzschia_photoeuk_noSK.xml\")\n",
    "models[\"sulfito\"] = cobra.io.read_sbml_model(\"../results/models/TARA_ARC_108_MAG_00083.genepred.xml\")"
   ]
  },
  {
   "cell_type": "code",
   "execution_count": 34,
   "metadata": {},
   "outputs": [],
   "source": [
    "from cobra import Model\n",
    "from pathlib import Path\n",
    "\n",
    "\n",
    "def get_medium_dict_from_media_db(media_db: Path, medium_id: str) -> dict:\n",
    "    \"\"\"\n",
    "    Get a dictionary of exchange reactions for a given medium.\n",
    "\n",
    "    Args:\n",
    "        model (Model): _description_\n",
    "        media_db (Path): _description_\n",
    "        medium_id (str): _description_\n",
    "\n",
    "    Returns:\n",
    "        Model: _description_\n",
    "    \"\"\"\n",
    "    media = pd.read_csv(media_db, sep=\"\\t\")\n",
    "    if medium_id not in media.medium.values:\n",
    "        raise ValueError(f\"Medium {medium_id} not found in media database.\")\n",
    "    return {\n",
    "    f\"EX_{species}_e\": 1000\n",
    "    for species in media[media[\"medium\"] == medium_id].compound\n",
    "    }\n",
    "\n",
    "def close_exchange_reactions(model: Model) -> Model:\n",
    "    \"\"\"\n",
    "    Close all exchange reactions in a model.\n",
    "\n",
    "    Args:\n",
    "        model (Model): _description_\n",
    "\n",
    "    Returns:\n",
    "        Model: _description_\n",
    "    \"\"\"\n",
    "    for rxn in model.reactions:\n",
    "        if rxn.id.startswith(\"EX_\"):\n",
    "            rxn.lower_bound = 0\n",
    "    return model\n",
    "\n",
    "def set_medium(model: Model, medium_id: str, media_db: Path) -> Model:\n",
    "    \"\"\"\n",
    "    Set the medium for a model.\n",
    "\n",
    "    Args:\n",
    "        model (Model): _description_\n",
    "        medium_id (str): _description_\n",
    "        media_db (Path): _description_\n",
    "\n",
    "    Returns:\n",
    "        Model: _description_\n",
    "    \"\"\"\n",
    "    model = close_exchange_reactions(model)\n",
    "    medium_dict = get_medium_dict_from_media_db(media_db, medium_id)\n",
    "    medium_dict[\"EX_glc__D_e\"] = -10\n",
    "    for rxn_id, flux in medium_dict.items():\n",
    "        if rxn_id in model.reactions:\n",
    "            model.reactions.get_by_id(rxn_id).lower_bound = -flux\n",
    "    return model"
   ]
  },
  {
   "cell_type": "code",
   "execution_count": 26,
   "metadata": {},
   "outputs": [
    {
     "data": {
      "text/plain": [
       "{'EX_ca2_e': 1000,\n",
       " 'EX_cl_e': 1000,\n",
       " 'EX_cobalt2_e': 1000,\n",
       " 'EX_cu2_e': 1000,\n",
       " 'EX_fe2_e': 1000,\n",
       " 'EX_fe3_e': 1000,\n",
       " 'EX_glc__D_e': 10,\n",
       " 'EX_h2o_e': 1000,\n",
       " 'EX_h_e': 1000,\n",
       " 'EX_k_e': 1000,\n",
       " 'EX_mg2_e': 1000,\n",
       " 'EX_mn2_e': 1000,\n",
       " 'EX_mobd_e': 1000,\n",
       " 'EX_na1_e': 1000,\n",
       " 'EX_nh4_e': 1000,\n",
       " 'EX_ni2_e': 1000,\n",
       " 'EX_o2_e': 1000,\n",
       " 'EX_pi_e': 1000,\n",
       " 'EX_so4_e': 1000,\n",
       " 'EX_zn2_e': 1000,\n",
       " 'EX_photon_e': 1000,\n",
       " 'EX_co_e': 1000,\n",
       " 'EX_co2_e': 1000,\n",
       " 'EX_n2_e': 1000,\n",
       " 'EX_hco3_e': 1000}"
      ]
     },
     "execution_count": 26,
     "metadata": {},
     "output_type": "execute_result"
    }
   ],
   "source": [
    "medium = get_medium_dict_from_media_db(\n",
    "    \"../data/marine_media/media_db.tsv\", \"M9[marine]\"\n",
    "    )\n",
    "medium[\"EX_glc__D_e\"] = 10\n",
    "medium"
   ]
  },
  {
   "cell_type": "code",
   "execution_count": 35,
   "metadata": {},
   "outputs": [
    {
     "data": {
      "text/html": [
       "<h3>Objective</h3><p>1.0 bof_c = 0.0</p><h4>Uptake</h4><table border=\"1\" class=\"dataframe\">\n",
       "  <thead>\n",
       "    <tr style=\"text-align: right;\">\n",
       "      <th>Metabolite</th>\n",
       "      <th>Reaction</th>\n",
       "      <th>Flux</th>\n",
       "      <th>C-Number</th>\n",
       "      <th>C-Flux</th>\n",
       "    </tr>\n",
       "  </thead>\n",
       "  <tbody>\n",
       "    <tr>\n",
       "      <td>photon_e</td>\n",
       "      <td>EX_photon_e</td>\n",
       "      <td>0.585</td>\n",
       "      <td>0</td>\n",
       "      <td>0.00%</td>\n",
       "    </tr>\n",
       "  </tbody>\n",
       "</table><h4>Secretion</h4><table border=\"1\" class=\"dataframe\">\n",
       "  <thead>\n",
       "    <tr style=\"text-align: right;\">\n",
       "      <th>Metabolite</th>\n",
       "      <th>Reaction</th>\n",
       "      <th>Flux</th>\n",
       "      <th>C-Number</th>\n",
       "      <th>C-Flux</th>\n",
       "    </tr>\n",
       "  </thead>\n",
       "  <tbody>\n",
       "  </tbody>\n",
       "</table>"
      ],
      "text/plain": [
       "<cobra.summary.model_summary.ModelSummary at 0x7fc9a702b150>"
      ]
     },
     "execution_count": 35,
     "metadata": {},
     "output_type": "execute_result"
    }
   ],
   "source": [
    "models[\"ps\"] = set_medium(models[\"ps\"], \"M9[marine]\", \"../data/marine_media/media_db.tsv\")\n",
    "\n",
    "models[\"ps\"].summary()"
   ]
  },
  {
   "cell_type": "markdown",
   "metadata": {},
   "source": [
    "M9[marine]\tM9 minimal medium (marine)\tca2\tCa2+\n",
    "M9[marine]\tM9 minimal medium (marine)\tcl\tCl-\n",
    "M9[marine]\tM9 minimal medium (marine)\tcobalt2\tCo2+\n",
    "M9[marine]\tM9 minimal medium (marine)\tcu2\tCu2+\n",
    "M9[marine]\tM9 minimal medium (marine)\tfe2\tFe2+\n",
    "M9[marine]\tM9 minimal medium (marine)\tfe3\tFe3+\n",
    "M9[marine]\tM9 minimal medium (marine)\tglc__D\tD-Glucose\n",
    "M9[marine]\tM9 minimal medium (marine)\th2o\tH2O\n",
    "M9[marine]\tM9 minimal medium (marine)\th\tH+\n",
    "M9[marine]\tM9 minimal medium (marine)\tk\tK+\n",
    "M9[marine]\tM9 minimal medium (marine)\tmg2\tMg\n",
    "M9[marine]\tM9 minimal medium (marine)\tmn2\tMn2+\n",
    "M9[marine]\tM9 minimal medium (marine)\tmobd\tMolybdate\n",
    "M9[marine]\tM9 minimal medium (marine)\tna1\tNa+\n",
    "M9[marine]\tM9 minimal medium (marine)\tnh4\tAmmonium\n",
    "M9[marine]\tM9 minimal medium (marine)\tni2\tNi2+\n",
    "M9[marine]\tM9 minimal medium (marine)\to2\tO2\n",
    "M9[marine]\tM9 minimal medium (marine)\tpi\tPhosphate\n",
    "M9[marine]\tM9 minimal medium (marine)\tso4\tSulfate\n",
    "M9[marine]\tM9 minimal medium (marine)\tzn2\tZn2+\n",
    "M9[marine]\tM9 minimal medium (marine)\tphoton\tphoton (marine)\n",
    "M9[marine]\tM9 minimal medium (marine)\tco\tcarbon monoxide\n",
    "M9[marine]\tM9 minimal medium (marine)\tco2\tcarbon dioxyde\n",
    "M9[marine]\tM9 minimal medium (marine)\tn2\tNitrogen\n",
    "M9[marine]\tM9 minimal medium (marine)\thco3\tbicarbonate"
   ]
  },
  {
   "cell_type": "code",
   "execution_count": 4,
   "metadata": {},
   "outputs": [
    {
     "data": {
      "text/html": [
       "\n",
       "        <table>\n",
       "            <tr>\n",
       "                <td><strong>Metabolite identifier</strong></td><td>CPD-15199_c</td>\n",
       "            </tr><tr>\n",
       "                <td><strong>Name</strong></td><td>5-deoxy-&alpha;-ribose 1-phosphate</td>\n",
       "            </tr><tr>\n",
       "                <td><strong>Memory address</strong></td>\n",
       "                <td>0x7fc95a69e190</td>\n",
       "            </tr><tr>\n",
       "                <td><strong>Formula</strong></td><td>C5H9O7P</td>\n",
       "            </tr><tr>\n",
       "                <td><strong>Compartment</strong></td><td>c</td>\n",
       "            </tr><tr>\n",
       "                <td><strong>In 2 reaction(s)</strong></td><td>\n",
       "                    DM_CPD-15199_c, RXN-14304\n",
       "                    </td>\n",
       "            </tr>\n",
       "        </table>"
      ],
      "text/plain": [
       "<Metabolite CPD-15199_c at 0x7fc95a69e190>"
      ]
     },
     "execution_count": 4,
     "metadata": {},
     "output_type": "execute_result"
    }
   ],
   "source": [
    "models[\"ps\"].reactions.get_by_id(\"EX_tsul_e\")\n",
    "models[\"ps\"].metabolites.get_by_id(\"CPD-15199_c\")"
   ]
  },
  {
   "cell_type": "code",
   "execution_count": 16,
   "metadata": {},
   "outputs": [],
   "source": [
    "from reconstruction import get_organic_exchanges\n",
    "from cobra.flux_analysis.variability import flux_variability_analysis, find_blocked_reactions\n",
    "\n",
    "\n",
    "carbon_exchanges = get_organic_exchanges(models[\"ps\"])\n",
    "fva_ex = flux_variability_analysis(models[\"ps\"], reaction_list=carbon_exchanges, loopless=False, fraction_of_optimum=0.1)"
   ]
  },
  {
   "cell_type": "code",
   "execution_count": 18,
   "metadata": {},
   "outputs": [
    {
     "data": {
      "text/html": [
       "<div>\n",
       "<style scoped>\n",
       "    .dataframe tbody tr th:only-of-type {\n",
       "        vertical-align: middle;\n",
       "    }\n",
       "\n",
       "    .dataframe tbody tr th {\n",
       "        vertical-align: top;\n",
       "    }\n",
       "\n",
       "    .dataframe thead th {\n",
       "        text-align: right;\n",
       "    }\n",
       "</style>\n",
       "<table border=\"1\" class=\"dataframe\">\n",
       "  <thead>\n",
       "    <tr style=\"text-align: right;\">\n",
       "      <th></th>\n",
       "      <th>minimum</th>\n",
       "      <th>maximum</th>\n",
       "    </tr>\n",
       "  </thead>\n",
       "  <tbody>\n",
       "    <tr>\n",
       "      <th>EX_glyclt_e</th>\n",
       "      <td>0.0</td>\n",
       "      <td>38.767932</td>\n",
       "    </tr>\n",
       "    <tr>\n",
       "      <th>EX_glc_e</th>\n",
       "      <td>0.0</td>\n",
       "      <td>18.674589</td>\n",
       "    </tr>\n",
       "    <tr>\n",
       "      <th>EX_tcynt_e</th>\n",
       "      <td>0.0</td>\n",
       "      <td>23.260759</td>\n",
       "    </tr>\n",
       "    <tr>\n",
       "      <th>EX_lac_d_e</th>\n",
       "      <td>0.0</td>\n",
       "      <td>10.000000</td>\n",
       "    </tr>\n",
       "    <tr>\n",
       "      <th>EX_etoh_e</th>\n",
       "      <td>0.0</td>\n",
       "      <td>74.698354</td>\n",
       "    </tr>\n",
       "    <tr>\n",
       "      <th>...</th>\n",
       "      <td>...</td>\n",
       "      <td>...</td>\n",
       "    </tr>\n",
       "    <tr>\n",
       "      <th>EX_ser_L_e</th>\n",
       "      <td>0.0</td>\n",
       "      <td>10.000000</td>\n",
       "    </tr>\n",
       "    <tr>\n",
       "      <th>EX_13dpg_e</th>\n",
       "      <td>0.0</td>\n",
       "      <td>10.000000</td>\n",
       "    </tr>\n",
       "    <tr>\n",
       "      <th>EX_2aobut_e</th>\n",
       "      <td>0.0</td>\n",
       "      <td>10.000000</td>\n",
       "    </tr>\n",
       "    <tr>\n",
       "      <th>EX_ala_B_e</th>\n",
       "      <td>0.0</td>\n",
       "      <td>10.000000</td>\n",
       "    </tr>\n",
       "    <tr>\n",
       "      <th>EX_CPD-18352_e</th>\n",
       "      <td>0.0</td>\n",
       "      <td>3.931492</td>\n",
       "    </tr>\n",
       "  </tbody>\n",
       "</table>\n",
       "<p>103 rows × 2 columns</p>\n",
       "</div>"
      ],
      "text/plain": [
       "                minimum    maximum\n",
       "EX_glyclt_e         0.0  38.767932\n",
       "EX_glc_e            0.0  18.674589\n",
       "EX_tcynt_e          0.0  23.260759\n",
       "EX_lac_d_e          0.0  10.000000\n",
       "EX_etoh_e           0.0  74.698354\n",
       "...                 ...        ...\n",
       "EX_ser_L_e          0.0  10.000000\n",
       "EX_13dpg_e          0.0  10.000000\n",
       "EX_2aobut_e         0.0  10.000000\n",
       "EX_ala_B_e          0.0  10.000000\n",
       "EX_CPD-18352_e      0.0   3.931492\n",
       "\n",
       "[103 rows x 2 columns]"
      ]
     },
     "execution_count": 18,
     "metadata": {},
     "output_type": "execute_result"
    }
   ],
   "source": [
    "fva_ex[fva_ex.maximum > 0]"
   ]
  },
  {
   "cell_type": "markdown",
   "metadata": {},
   "source": [
    "## What about exports in bacterial partners?"
   ]
  },
  {
   "cell_type": "code",
   "execution_count": 56,
   "metadata": {},
   "outputs": [],
   "source": [
    "carbon_exchanges = get_organic_exchanges(models[\"sulfito\"])"
   ]
  },
  {
   "cell_type": "code",
   "execution_count": 63,
   "metadata": {},
   "outputs": [
    {
     "data": {
      "text/html": [
       "<div>\n",
       "<style scoped>\n",
       "    .dataframe tbody tr th:only-of-type {\n",
       "        vertical-align: middle;\n",
       "    }\n",
       "\n",
       "    .dataframe tbody tr th {\n",
       "        vertical-align: top;\n",
       "    }\n",
       "\n",
       "    .dataframe thead th {\n",
       "        text-align: right;\n",
       "    }\n",
       "</style>\n",
       "<table border=\"1\" class=\"dataframe\">\n",
       "  <thead>\n",
       "    <tr style=\"text-align: right;\">\n",
       "      <th></th>\n",
       "      <th>minimum</th>\n",
       "      <th>maximum</th>\n",
       "    </tr>\n",
       "  </thead>\n",
       "  <tbody>\n",
       "    <tr>\n",
       "      <th>CBLAT</th>\n",
       "      <td>-1000.0</td>\n",
       "      <td>1000.000000</td>\n",
       "    </tr>\n",
       "    <tr>\n",
       "      <th>ADOCBLPP</th>\n",
       "      <td>0.0</td>\n",
       "      <td>1.077761</td>\n",
       "    </tr>\n",
       "    <tr>\n",
       "      <th>TR_adocbl_c_to_adocbl_e</th>\n",
       "      <td>0.0</td>\n",
       "      <td>0.000000</td>\n",
       "    </tr>\n",
       "    <tr>\n",
       "      <th>CBLATm</th>\n",
       "      <td>-1000.0</td>\n",
       "      <td>1000.000000</td>\n",
       "    </tr>\n",
       "    <tr>\n",
       "      <th>EX_adocbl_e</th>\n",
       "      <td>0.0</td>\n",
       "      <td>0.000000</td>\n",
       "    </tr>\n",
       "  </tbody>\n",
       "</table>\n",
       "</div>"
      ],
      "text/plain": [
       "                         minimum      maximum\n",
       "CBLAT                    -1000.0  1000.000000\n",
       "ADOCBLPP                     0.0     1.077761\n",
       "TR_adocbl_c_to_adocbl_e      0.0     0.000000\n",
       "CBLATm                   -1000.0  1000.000000\n",
       "EX_adocbl_e                  0.0     0.000000"
      ]
     },
     "execution_count": 63,
     "metadata": {},
     "output_type": "execute_result"
    }
   ],
   "source": [
    "fva_ex = flux_variability_analysis(\n",
    "    models[\"sulfito\"],\n",
    "    reaction_list=[\"CBLAT\", \"ADOCBLPP\", \"TR_adocbl_c_to_adocbl_e\", \"CBLATm\", \"EX_adocbl_e\"],\n",
    "    loopless=False,\n",
    "    fraction_of_optimum=0.1\n",
    "    )\n",
    "\n",
    "fva_ex[fva_ex.maximum > 0]\n",
    "\n",
    "fva_ex"
   ]
  },
  {
   "cell_type": "code",
   "execution_count": 73,
   "metadata": {},
   "outputs": [
    {
     "data": {
      "text/html": [
       "\n",
       "        <table>\n",
       "            <tr>\n",
       "                <td><strong>Reaction identifier</strong></td><td>ADOCBLPP</td>\n",
       "            </tr><tr>\n",
       "                <td><strong>Name</strong></td><td>Adenosylcobalamin phosphate phosphatase</td>\n",
       "            </tr><tr>\n",
       "                <td><strong>Memory address</strong></td>\n",
       "                <td>0x7fc9843d4b90</td>\n",
       "            </tr><tr>\n",
       "                <td><strong>Stoichiometry</strong></td>\n",
       "                <td>\n",
       "                    <p style='text-align:right'>adocblp_c + h2o_p --> adocbl_c + pi_p</p>\n",
       "                    <p style='text-align:right'>Adenosylcobalamin-phosphate + H2O H2O --> Adenosylcobalamin + Phosphate</p>\n",
       "                </td>\n",
       "            </tr><tr>\n",
       "                <td><strong>GPR</strong></td><td></td>\n",
       "            </tr><tr>\n",
       "                <td><strong>Lower bound</strong></td><td>0.0</td>\n",
       "            </tr><tr>\n",
       "                <td><strong>Upper bound</strong></td><td>1000.0</td>\n",
       "            </tr>\n",
       "        </table>\n",
       "        "
      ],
      "text/plain": [
       "<Reaction ADOCBLPP at 0x7fc9843d4b90>"
      ]
     },
     "execution_count": 73,
     "metadata": {},
     "output_type": "execute_result"
    }
   ],
   "source": [
    "models[\"sulfito\"].reactions.get_by_id(\"ADOCBLPP\")"
   ]
  },
  {
   "cell_type": "code",
   "execution_count": 79,
   "metadata": {},
   "outputs": [
    {
     "data": {
      "text/plain": [
       "['0.000223 10fthf_c',\n",
       " '0.513689 ala__L_c',\n",
       " '0.000223 amet_c',\n",
       " '0.295792 arg__L_c',\n",
       " '0.241055 asn__L_c',\n",
       " '0.241055 asp__L_c',\n",
       " '54.124831 atp_c',\n",
       " '0.005205 ca2_c',\n",
       " '0.005205 cl_c',\n",
       " '0.000576 coa_c',\n",
       " '0.0001 cobalt2_c',\n",
       " '0.133508 ctp_c',\n",
       " '0.000709 cu2_c',\n",
       " '0.09158 cys__L_c',\n",
       " '0.026166 datp_c',\n",
       " '0.027017 dctp_c',\n",
       " '0.027017 dgtp_c',\n",
       " '0.026166 dttp_c',\n",
       " '0.000223 fad_c',\n",
       " '0.006715 fe2_c',\n",
       " '0.007808 fe3_c',\n",
       " '0.26316 gln__L_c',\n",
       " '0.26316 glu__L_c',\n",
       " '0.612638 gly_c',\n",
       " '0.215096 gtp_c',\n",
       " '48.601527 h2o_c',\n",
       " '0.094738 his__L_c',\n",
       " '0.290529 ile__L_c',\n",
       " '0.195193 k_c',\n",
       " '0.450531 leu__L_c',\n",
       " '0.343161 lys__L_c',\n",
       " '0.153686 met__L_c',\n",
       " '0.008675 mg2_c',\n",
       " '0.000223 mlthf_c',\n",
       " '0.000691 mn2_c',\n",
       " '0.0001 mql8_c',\n",
       " '0.001831 nad_c',\n",
       " '0.000447 nadp_c',\n",
       " '0.185265 phe__L_c',\n",
       " '0.221055 pro__L_c',\n",
       " '0.000223 pydx5p_c',\n",
       " '0.000223 ribflv_c',\n",
       " '0.215792 ser__L_c',\n",
       " '0.004338 so4_c',\n",
       " '0.000223 thf_c',\n",
       " '0.000223 thmpp_c',\n",
       " '0.253687 thr__L_c',\n",
       " '0.056843 trp__L_c',\n",
       " '0.137896 tyr__L_c',\n",
       " '0.1 uaagmda_c',\n",
       " '0.144104 utp_c',\n",
       " '0.423162 val__L_c',\n",
       " '0.000341 zn2_c --> 53.95 adp_c',\n",
       " '53.95 h_c',\n",
       " '53.945662 pi_c',\n",
       " '0.773903 ppi_c']"
      ]
     },
     "execution_count": 79,
     "metadata": {},
     "output_type": "execute_result"
    }
   ],
   "source": [
    "models[\"sulfito\"].reactions.get_by_id(\"Growth\").reaction.split(\" + \")"
   ]
  },
  {
   "cell_type": "code",
   "execution_count": 52,
   "metadata": {},
   "outputs": [],
   "source": [
    "from future import __annotations__\n",
    "\n",
    "from cobra import Model, Metabolite, Reaction\n",
    "\n",
    "\n",
    "def add_external_metabolite(model: Model, met_id: str) -> Model:\n",
    "    \"\"\"\n",
    "    Add an external metabolite to a model.\n",
    "\n",
    "    Args:\n",
    "        model (Model): _description_\n",
    "        met_id (str): _description_\n",
    "\n",
    "    Returns:\n",
    "        Model: _description_\n",
    "    \"\"\"\n",
    "    met = model.metabolites.get_by_id(met_id)\n",
    "    met_to_add = met.copy()\n",
    "    met_to_add.id = met_id[:-2] + \"_e\"\n",
    "    met_to_add.compartment = \"e\"\n",
    "    model.add_metabolites([met_to_add])\n",
    "    return model\n",
    "\n",
    "def add_transport_reaction(\n",
    "        model: Model,\n",
    "        met_i: str,\n",
    "        met_j: str,\n",
    "        lower_bound: float = -1000.0,\n",
    "        upper_bound: float = 1000.0\n",
    "        ) -> Model:\n",
    "    \"\"\"\n",
    "    Add a transport reaction to a model.\n",
    "\n",
    "    Args:\n",
    "        model (Model): _description_\n",
    "        met (Metabolite): _description_\n",
    "        met_to_add (Metabolite): _description_\n",
    "\n",
    "    Returns:\n",
    "        Model: _description_\n",
    "    \"\"\"\n",
    "    met = model.metabolites.get_by_id(met_i)\n",
    "    met_to_add = model.metabolites.get_by_id(met_j)\n",
    "    rxn_id = f\"TR_{met.id}_to_{met_to_add.id}\"\n",
    "    rxn = Reaction(rxn_id)\n",
    "    rxn.name = f\"Transport of {met.id} to {met_to_add.id}\"\n",
    "    rxn.add_metabolites({met: -1, met_to_add: 1})\n",
    "    rxn.lower_bound = lower_bound\n",
    "    rxn.upper_bound = upper_bound\n",
    "    rxn.subsystem = \"Transport\"\n",
    "    rxn.gene_reaction_rule = \"Spontaenous\"\n",
    "    model.add_reactions([rxn])\n",
    "    return model\n",
    "\n",
    "def add_exchanges_for_metabolites(model: Model, met_ids: list[str]) -> Model:\n",
    "    \"\"\"\n",
    "    Add exchange reactions for a list of metabolites.\n",
    "\n",
    "    Args:\n",
    "        model (Model): _description_\n",
    "        met_ids (list[str]): _description_\n",
    "\n",
    "    Returns:\n",
    "        Model: _description_\n",
    "    \"\"\"\n",
    "    for met_id in met_ids:\n",
    "        if met_id in model.metabolites:\n",
    "            met = model.metabolites.get_by_id(met_id)\n",
    "            if met.compartment != \"e\":\n",
    "                model = add_external_metabolite(model, met_id)\n",
    "                model = add_transport_reaction(model, met.id, met_to_add.id)\n",
    "            else:\n",
    "                met_to_add = met\n",
    "            model.add_boundary(met_to_add, type=\"exchange\")\n",
    "        else:\n",
    "            print(f\"Metabolite {met_id} not found in model.\")\n",
    "    return model\n",
    "\n",
    "\n",
    "models[\"sulfito\"] = add_external_metabolite(models[\"sulfito\"], \"adocbl_c\")\n",
    "models[\"sulfito\"] = add_transport_reaction(models[\"sulfito\"], \"adocbl_c\", \"adocbl_e\")\n",
    "models[\"sulfito\"] = add_exchanges_for_metabolites(models[\"sulfito\"], [\"adocbl_e\"])"
   ]
  },
  {
   "cell_type": "code",
   "execution_count": 70,
   "metadata": {},
   "outputs": [
    {
     "data": {
      "text/html": [
       "\n",
       "        <table>\n",
       "            <tr>\n",
       "                <td><strong>Metabolite identifier</strong></td><td>adocbl_e</td>\n",
       "            </tr><tr>\n",
       "                <td><strong>Name</strong></td><td>Adenosylcobalamin</td>\n",
       "            </tr><tr>\n",
       "                <td><strong>Memory address</strong></td>\n",
       "                <td>0x7fc9842e13d0</td>\n",
       "            </tr><tr>\n",
       "                <td><strong>Formula</strong></td><td>C72H100CoN18O17P</td>\n",
       "            </tr><tr>\n",
       "                <td><strong>Compartment</strong></td><td>e</td>\n",
       "            </tr><tr>\n",
       "                <td><strong>In 2 reaction(s)</strong></td><td>\n",
       "                    EX_adocbl_e, TR_adocbl_c_to_adocbl_e\n",
       "                    </td>\n",
       "            </tr>\n",
       "        </table>"
      ],
      "text/plain": [
       "<Metabolite adocbl_e at 0x7fc9842e13d0>"
      ]
     },
     "execution_count": 70,
     "metadata": {},
     "output_type": "execute_result"
    }
   ],
   "source": [
    "models[\"sulfito\"].metabolites.get_by_id(\"adocbl_e\")\n"
   ]
  },
  {
   "cell_type": "code",
   "execution_count": 72,
   "metadata": {},
   "outputs": [
    {
     "data": {
      "text/html": [
       "\n",
       "        <table>\n",
       "            <tr>\n",
       "                <td><strong>Reaction identifier</strong></td><td>TR_adocbl_c_to_adocbl_e</td>\n",
       "            </tr><tr>\n",
       "                <td><strong>Name</strong></td><td>Transport of adocbl_c to adocbl_e</td>\n",
       "            </tr><tr>\n",
       "                <td><strong>Memory address</strong></td>\n",
       "                <td>0x7fc9844673d0</td>\n",
       "            </tr><tr>\n",
       "                <td><strong>Stoichiometry</strong></td>\n",
       "                <td>\n",
       "                    <p style='text-align:right'>adocbl_c <=> adocbl_e</p>\n",
       "                    <p style='text-align:right'>Adenosylcobalamin <=> Adenosylcobalamin</p>\n",
       "                </td>\n",
       "            </tr><tr>\n",
       "                <td><strong>GPR</strong></td><td>Spontaenous</td>\n",
       "            </tr><tr>\n",
       "                <td><strong>Lower bound</strong></td><td>-1000.0</td>\n",
       "            </tr><tr>\n",
       "                <td><strong>Upper bound</strong></td><td>1000.0</td>\n",
       "            </tr>\n",
       "        </table>\n",
       "        "
      ],
      "text/plain": [
       "<Reaction TR_adocbl_c_to_adocbl_e at 0x7fc9844673d0>"
      ]
     },
     "execution_count": 72,
     "metadata": {},
     "output_type": "execute_result"
    }
   ],
   "source": [
    "models[\"sulfito\"].reactions.get_by_id(\"TR_adocbl_c_to_adocbl_e\")"
   ]
  },
  {
   "cell_type": "code",
   "execution_count": 67,
   "metadata": {},
   "outputs": [
    {
     "ename": "KeyError",
     "evalue": "'EX_cbl1_e'",
     "output_type": "error",
     "traceback": [
      "\u001b[0;31m---------------------------------------------------------------------------\u001b[0m",
      "\u001b[0;31mKeyError\u001b[0m                                  Traceback (most recent call last)",
      "Cell \u001b[0;32mIn[67], line 1\u001b[0m\n\u001b[0;32m----> 1\u001b[0m models[\u001b[39m\"\u001b[39;49m\u001b[39msulfito\u001b[39;49m\u001b[39m\"\u001b[39;49m]\u001b[39m.\u001b[39;49mreactions\u001b[39m.\u001b[39;49mget_by_id(\u001b[39m\"\u001b[39;49m\u001b[39mEX_cbl1_e\u001b[39;49m\u001b[39m\"\u001b[39;49m)\n",
      "File \u001b[0;32m~/miniconda3/envs/nal/lib/python3.11/site-packages/cobra/core/dictlist.py:73\u001b[0m, in \u001b[0;36mDictList.get_by_id\u001b[0;34m(self, id)\u001b[0m\n\u001b[1;32m     71\u001b[0m \u001b[39mdef\u001b[39;00m \u001b[39mget_by_id\u001b[39m(\u001b[39mself\u001b[39m, \u001b[39mid\u001b[39m: Union[Object, \u001b[39mstr\u001b[39m]) \u001b[39m-\u001b[39m\u001b[39m>\u001b[39m Object:\n\u001b[1;32m     72\u001b[0m \u001b[39m    \u001b[39m\u001b[39m\"\"\"Return the element with a matching id.\"\"\"\u001b[39;00m\n\u001b[0;32m---> 73\u001b[0m     \u001b[39mreturn\u001b[39;00m \u001b[39mlist\u001b[39m\u001b[39m.\u001b[39m\u001b[39m__getitem__\u001b[39m(\u001b[39mself\u001b[39m, \u001b[39mself\u001b[39;49m\u001b[39m.\u001b[39;49m_dict[\u001b[39mid\u001b[39;49m])\n",
      "\u001b[0;31mKeyError\u001b[0m: 'EX_cbl1_e'"
     ]
    }
   ],
   "source": [
    "models[\"sulfito\"].reactions.get_by_id(\"EX_cbl1_e\")"
   ]
  }
 ],
 "metadata": {
  "kernelspec": {
   "display_name": "nal",
   "language": "python",
   "name": "python3"
  },
  "language_info": {
   "codemirror_mode": {
    "name": "ipython",
    "version": 3
   },
   "file_extension": ".py",
   "mimetype": "text/x-python",
   "name": "python",
   "nbconvert_exporter": "python",
   "pygments_lexer": "ipython3",
   "version": "3.11.4"
  },
  "orig_nbformat": 4
 },
 "nbformat": 4,
 "nbformat_minor": 2
}
