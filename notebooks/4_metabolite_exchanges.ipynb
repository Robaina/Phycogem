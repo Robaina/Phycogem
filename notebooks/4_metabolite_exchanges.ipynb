{
 "cells": [
  {
   "cell_type": "markdown",
   "metadata": {},
   "source": [
    "# Finding putative metabolite interactions\n",
    "\n",
    "We will employ [SMETANA]() through its [Python implementation]() to find putative metabolic interactions among the set of models in our use case: a phycosphere microbiome composed of the diatom: Pseudo-nitzschia sp., and the bacterial partners: Sulfitobacter sp., Alteromonas sp., Marinobacter sp., and Polaribacter sp.\n",
    "\n",
    "To this end, we will simulate a marine medium containing only inorganic componets, as vitamins and cofactors will be synthesized by the bacterial partners, while the diatom will provide the carbon source."
   ]
  },
  {
   "cell_type": "markdown",
   "metadata": {},
   "source": [
    "## Which bacterial partners are producing Pseudo-nitzschia essential cofactors?\n",
    "\n",
    "* Adenosylcobalamin (adocbl): _Sulfitobacter sp._\n",
    "* Folate (fol): _?_\n",
    "* Thiamin (thm): _?_ https://www.frontiersin.org/articles/10.3389/fmars.2020.606342/full\n",
    "\n",
    "\n",
    "It seems like none of the reconstructed GEMs are producing thiamin and folate per se, but rather importing. Is this a limitation of the universal model or are these species really auxotrophs for them?"
   ]
  },
  {
   "cell_type": "markdown",
   "metadata": {},
   "source": [
    "| Model | B12 (adocbl) | B1 (thm) | Folate |\n",
    "|-------|----------|----------|--------|\n",
    "| Sulfitobacter   | +   | -   | -   |\n",
    "| Alteromonas   | -   | -   | -   |\n",
    "| Marinobacter   | -   | -   | -   |\n",
    "| Polaribacter   | -   | -   | -   |"
   ]
  },
  {
   "cell_type": "code",
   "execution_count": 3,
   "metadata": {},
   "outputs": [
    {
     "name": "stdout",
     "output_type": "stream",
     "text": [
      "Set parameter Username\n",
      "Academic license - for non-commercial use only - expires 2023-11-05\n"
     ]
    },
    {
     "name": "stderr",
     "output_type": "stream",
     "text": [
      "/home/robaina/.local/lib/python3.8/site-packages/reframed/core/elements.py:62: UserWarning: Atomic weight not listed for elements: {'Z'}\n",
      "  warn(f\"Atomic weight not listed for elements: {missing}\")\n"
     ]
    }
   ],
   "source": [
    "%%bash\n",
    "\n",
    "smetana \\\n",
    "    gems/*.xml \\\n",
    "    -m MARINE \\\n",
    "    --mediadb marine_media/SnakeCarveMe-master/media_db.tsv \\\n",
    "    -o pseudo_nitzschia_interactions \\\n",
    "    --solver gurobi \\\n",
    "    --exclude compounds/inorganic.txt \\\n",
    "    --molweight --detailed"
   ]
  },
  {
   "cell_type": "code",
   "execution_count": 2,
   "metadata": {},
   "outputs": [
    {
     "data": {
      "text/html": [
       "<div>\n",
       "<style scoped>\n",
       "    .dataframe tbody tr th:only-of-type {\n",
       "        vertical-align: middle;\n",
       "    }\n",
       "\n",
       "    .dataframe tbody tr th {\n",
       "        vertical-align: top;\n",
       "    }\n",
       "\n",
       "    .dataframe thead th {\n",
       "        text-align: right;\n",
       "    }\n",
       "</style>\n",
       "<table border=\"1\" class=\"dataframe\">\n",
       "  <thead>\n",
       "    <tr style=\"text-align: right;\">\n",
       "      <th></th>\n",
       "      <th>community</th>\n",
       "      <th>medium</th>\n",
       "      <th>receiver</th>\n",
       "      <th>donor</th>\n",
       "      <th>compound</th>\n",
       "      <th>scs</th>\n",
       "      <th>mus</th>\n",
       "      <th>mps</th>\n",
       "      <th>smetana</th>\n",
       "    </tr>\n",
       "  </thead>\n",
       "  <tbody>\n",
       "  </tbody>\n",
       "</table>\n",
       "</div>"
      ],
      "text/plain": [
       "Empty DataFrame\n",
       "Columns: [community, medium, receiver, donor, compound, scs, mus, mps, smetana]\n",
       "Index: []"
      ]
     },
     "execution_count": 2,
     "metadata": {},
     "output_type": "execute_result"
    }
   ],
   "source": [
    "import pandas as pd\n",
    "\n",
    "\n",
    "df = pd.read_csv(\"pseudo_nitzschia_interactions_detailed.tsv\", sep=\"\\t\")\n",
    "df"
   ]
  }
 ],
 "metadata": {
  "kernelspec": {
   "display_name": "nal",
   "language": "python",
   "name": "python3"
  },
  "language_info": {
   "codemirror_mode": {
    "name": "ipython",
    "version": 3
   },
   "file_extension": ".py",
   "mimetype": "text/x-python",
   "name": "python",
   "nbconvert_exporter": "python",
   "pygments_lexer": "ipython3",
   "version": "3.11.4"
  },
  "orig_nbformat": 4
 },
 "nbformat": 4,
 "nbformat_minor": 2
}
