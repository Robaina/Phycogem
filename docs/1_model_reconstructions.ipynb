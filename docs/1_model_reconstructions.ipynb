{
 "cells": [
  {
   "cell_type": "markdown",
   "metadata": {},
   "source": [
    "# Reconstructing genome-scale metabolic models from genomic data\n",
    "\n",
    "We have previously seen that genome-scale metabolic models (GEMs) contain the set of all known biochemical reactions of a given organism. Further, these reactions are catalyzed by enzymes, which are encoded by genes. Therefore, we can reconstruct a GEM from genomic data, i.e. the set of genes that are present in the genome of an organism. To this end, we need a biochemical database containing reactions and associated gene protein reaction rules, and a reference sequence database to map our query sequences in the genome. This approach is implemented by the Python tool [CarveME](https://github.com/cdanielmachado/carveme), which we will use in this tutorial to reconstruct several GEMs from a set of metagenome assembled genomes (MAGs) obtained from the [Tara Oceans](http://ocean-microbiome.embl.de/companion.html) database. In particular:\n",
    "\n",
    "* TARA_ARC_108_MAG_00080, _Alteromonas sp._\n",
    "* TARA_ARC_108_MAG_00174, _Marinobacter sp._\n",
    "* TARA_ARC_108_MAG_00201, _Polaribacter sp._\n",
    "* TARA_ARC_108_MAG_00083, _Sulfitobacter sp._\n"
   ]
  },
  {
   "cell_type": "markdown",
   "metadata": {},
   "source": [
    "## CarveMe inputs: peptide sequences and universal biochemical model\n",
    "\n",
    "CarveMe requires two inputs: a set of peptide sequences and a universal biochemical model. The peptide sequences are aligned against a reference database (with Diamond's [blastx](https://github.com/bbuchfink/diamond)) to match peptide sequences with biiochemical reaction IDs in the universal biochemical database, while the latter is used as a scaffold to generate the GEM of the organism of interest. Briefly, CarveME firstly extracts the subset of reactions in the universal model that were mapped to peptide sequences in the input genome, and then performs a guided [gap-filling](https://academic.oup.com/nar/article/46/15/7542/5042022?login=false) procedure to complete the GEM with missing reactions that are required to sustain growth under a given growth medium.\n",
    "\n",
    "As an example, here are the first 10 lines of one of the input files we will use in this tutorial. It corresponds to the predicted gene sequences (translated) obtained from one of the MAGs (TARA_ARC_108_MAG_00080, corresponding to genus _Alteromonas_) using [Eggnog-mapper](http://eggnog-mapper.embl.de/):"
   ]
  },
  {
   "cell_type": "code",
   "execution_count": 15,
   "metadata": {},
   "outputs": [
    {
     "name": "stdout",
     "output_type": "stream",
     "text": [
      ">TARA_ARC_108_MAG_00080_000000000001_1 # 175 # 588 # -1 # ID=1_1;partial=00;start_type=ATG;rbs_motif=GGA/GAG/AGG;rbs_spacer=5-10bp;gc_cont=0.420\n",
      "MDSKAPKALLKAQKLANLLDTAVKLPIIPIRIGLDSIVGLIPGAGDALMLLVSLRIVWLG\n",
      "KSLGMPSALVAQMVKNSAIDFGLGFVPFIGDIVDVFYKANQKNVRLMEKWWISENKADVD\n",
      "AQTQKKLTEWEKKLDQQ*\n",
      ">TARA_ARC_108_MAG_00080_000000000001_2 # 625 # 1704 # -1 # ID=1_2;partial=00;start_type=ATG;rbs_motif=GGA/GAG/AGG;rbs_spacer=5-10bp;gc_cont=0.444\n",
      "MKFKSNQGFTHSQSDKIGVLVTNLGTPESPTAAALRPYLKEFLSDPRVVEIPRALWWFIL\n",
      "NLIILNTRPKRSAEAYKTVWTEEGSPLLTITKSQAKAIEARCKAEYGDDVVVDFAMRYGN\n",
      "PAISDTIERMLSQGVRKLVVLPLYPQYSASTTASTFDAIAKDFTKRRWLPELRFVNHYND\n",
      "RPDYIKALANKVRAYWEEHGKADKLILSYHGIPKRYLLNGDPYHCECHKTSRLLAEELGL\n",
      "THEQYMTTFQSRFGKAEWLKPYTDETMKSLPGNGVKSIQVMCPGFSADCLETIEEIGEEN\n"
     ]
    }
   ],
   "source": [
    "%%bash\n",
    "\n",
    "head -n 10 ../data/genomes/pseudo-nitzschia/TARA_ARC_108_MAG_00080.genepred.fasta"
   ]
  },
  {
   "cell_type": "markdown",
   "metadata": {},
   "source": [
    "We will employ a generic metabolic model representativve of a prokaryotic organism as the input universal metabolic model, since all MAGs in this example correspond to prokaryotic organisms. The universal model has been derived from the universal model of the [BIGG](http://bigg.ucsd.edu/) database, and aggregates biochemical reactions from multiple prokaryotic species. Let's load it in `cobrapy` and print its summary:"
   ]
  },
  {
   "cell_type": "code",
   "execution_count": 16,
   "metadata": {},
   "outputs": [
    {
     "data": {
      "text/html": [
       "\n",
       "        <table>\n",
       "            <tr>\n",
       "                <td><strong>Name</strong></td>\n",
       "                <td>bigg_universal</td>\n",
       "            </tr><tr>\n",
       "                <td><strong>Memory address</strong></td>\n",
       "                <td>7f401d48c610</td>\n",
       "            </tr><tr>\n",
       "                <td><strong>Number of metabolites</strong></td>\n",
       "                <td>6861</td>\n",
       "            </tr><tr>\n",
       "                <td><strong>Number of reactions</strong></td>\n",
       "                <td>17851</td>\n",
       "            </tr><tr>\n",
       "                <td><strong>Number of genes</strong></td>\n",
       "                <td>0</td>\n",
       "            </tr><tr>\n",
       "                <td><strong>Number of groups</strong></td>\n",
       "                <td>0</td>\n",
       "            </tr><tr>\n",
       "                <td><strong>Objective expression</strong></td>\n",
       "                <td>1.0*Growth - 1.0*Growth_reverse_699ae</td>\n",
       "            </tr><tr>\n",
       "                <td><strong>Compartments</strong></td>\n",
       "                <td>cytoplasm, periplasm, extracellular</td>\n",
       "            </tr>\n",
       "          </table>"
      ],
      "text/plain": [
       "<Model bigg_universal at 0x7f401d48c610>"
      ]
     },
     "execution_count": 16,
     "metadata": {},
     "output_type": "execute_result"
    }
   ],
   "source": [
    "import cobra\n",
    "from phycogem.reconstruction_helpers import get_medium_dict_from_media_db, get_dict_of_metabolite_ids\n",
    "\n",
    "\n",
    "universe = cobra.io.read_sbml_model(\"../data/carveme_universes/prokaryote_carveme_curated.xml\")\n",
    "universe"
   ]
  },
  {
   "cell_type": "markdown",
   "metadata": {},
   "source": [
    "We see that the universal model contains a total of 17851 reactions and 6861 metabolites, three compartments: cytosol, periplasm and extracellular, and a _Growth_ pseudo-reactions, which is tailored to prokaryotic organisms."
   ]
  },
  {
   "cell_type": "markdown",
   "metadata": {},
   "source": [
    "## Carving models\n",
    "\n",
    "We are now ready to start reconstructing GEMs for each of the input MAGs with CarveME. Note that we need to define a medium for the reconstruction, as mentioned above, this is needed for the gap-filling step, as the procedure adds missing reactions to guarantee that the reconstructed model can sustain growth in the defined medium. In this example, we will use a simple marine medium containing inorganic components, some vitamins and cofactors and a carbon source:"
   ]
  },
  {
   "cell_type": "code",
   "execution_count": 17,
   "metadata": {},
   "outputs": [
    {
     "name": "stdout",
     "output_type": "stream",
     "text": [
      "glyb: Glycine betaine\n",
      "btn: Biotin\n",
      "ca2: Calcium\n",
      "co: Carbon monoxide\n",
      "co2: CO2 CO2\n",
      "cobalt2: Co2+\n",
      "cu2: Copper\n",
      "fe2: Fe2+ mitochondria\n",
      "fe3: Iron (Fe3+)\n",
      "h2: Hydrogen\n",
      "h2o: H2O H2O\n",
      "hco3: Bicarbonate\n",
      "k: Potassium\n",
      "mg2: Magnesium\n",
      "mn2: Manganese\n",
      "n2: Nitrogen\n",
      "na1: Sodium\n",
      "nh4: Ammonium\n",
      "no2: Nitrite\n",
      "no3: Nitrate\n",
      "o2: O2 O2\n",
      "photon: Light\n",
      "pi: Phosphate\n",
      "h: H+\n",
      "so4: Sulfate\n",
      "urea: Urea CH4N2O\n",
      "zn2: Zinc\n",
      "cl: Chloride\n",
      "thm: Thiamin\n",
      "fol: Folate\n",
      "adodbl: adodbl\n",
      "cbl1: Cob(I)alamin\n",
      "glc__D: D-Glucose\n"
     ]
    }
   ],
   "source": [
    "medium_id = \"MARINE\"\n",
    "met_names = get_dict_of_metabolite_ids(\"../data/compounds/BIGG_metabolites.json\")\n",
    "\n",
    "medium = get_medium_dict_from_media_db(\n",
    "    \"../data/marine_media/media_db.tsv\",\n",
    "    medium_id\n",
    ")\n",
    "\n",
    "for rxn_ex in medium:\n",
    "    met_id = \"_\".join(\"_\".join(rxn_ex.split(\"_\")[1:]).split(\"_\")[:-1])\n",
    "    print(f\"{met_id}: {met_names[met_id] if met_id in met_names else met_id}\")"
   ]
  },
  {
   "cell_type": "code",
   "execution_count": 18,
   "metadata": {},
   "outputs": [
    {
     "name": "stdout",
     "output_type": "stream",
     "text": [
      "Running TARA_ARC_108_MAG_00080.genepred\n",
      "Running TARA_ARC_108_MAG_00083.genepred\n",
      "Running TARA_ARC_108_MAG_00117.genepred\n",
      "Running TARA_ARC_108_MAG_00139.genepred\n",
      "Running TARA_ARC_108_MAG_00174.genepred\n",
      "Running TARA_ARC_108_MAG_00179.genepred\n",
      "Running TARA_ARC_108_MAG_00201.genepred\n"
     ]
    }
   ],
   "source": [
    "%%bash\n",
    "\n",
    "GENOME_DIR=\"../data/genomes/pseudo-nitzschia/\"\n",
    "\n",
    "for genome_file in \"${GENOME_DIR}\"*.fasta; do\n",
    "    base_name=$(basename \"$genome_file\" .fasta)\n",
    "    echo \"Running $base_name\"\n",
    "    carve \\\n",
    "        --universe-file \"../data/carveme_universes/prokaryote_carveme_curated.xml\" \\\n",
    "        --solver gurobi \\\n",
    "        -o \"../results/models/${base_name}.xml\" \\\n",
    "        --init MARINE \\\n",
    "        --gapfill MARINE \\\n",
    "        --mediadb \"../data/marine_media/media_db.tsv\" \\\n",
    "        --fbc2 \\\n",
    "        \"$genome_file\" >/dev/null 2>&1\n",
    "done"
   ]
  },
  {
   "cell_type": "markdown",
   "metadata": {},
   "source": [
    "## Loading the reconstructed models in cobrapy\n",
    "\n",
    "Let's take a look at the reconstructed models in cobrapy. We will load them and optimize growth using the default flux bounds that are built into the model."
   ]
  },
  {
   "cell_type": "code",
   "execution_count": 19,
   "metadata": {},
   "outputs": [],
   "source": [
    "models = {}\n",
    "models[\"Sulfitobacter\"] = cobra.io.read_sbml_model(\n",
    "    \"../results/models/TARA_ARC_108_MAG_00083.genepred.xml\"\n",
    "    )\n",
    "models[\"Polaribacter\"] = cobra.io.read_sbml_model(\n",
    "    \"../results/models/TARA_ARC_108_MAG_00201.genepred.xml\"\n",
    "    )\n",
    "models[\"Alteromonas\"] = cobra.io.read_sbml_model(\n",
    "    \"../results/models/TARA_ARC_108_MAG_00080.genepred.xml\"\n",
    "    )\n",
    "models[\"Marinobacter\"] = cobra.io.read_sbml_model(\n",
    "    \"../results/models/TARA_ARC_108_MAG_00174.genepred.xml\"\n",
    "    )"
   ]
  },
  {
   "cell_type": "code",
   "execution_count": 20,
   "metadata": {},
   "outputs": [
    {
     "name": "stdout",
     "output_type": "stream",
     "text": [
      "Sulfitobacter\n",
      "Reactions: 2752 | Metabolites: 1825 | Max Growth: 0.34 1/h\n",
      "Polaribacter\n",
      "Reactions: 1909 | Metabolites: 1300 | Max Growth: 0.58 1/h\n",
      "Alteromonas\n",
      "Reactions: 2990 | Metabolites: 2013 | Max Growth: 1.76 1/h\n",
      "Marinobacter\n",
      "Reactions: 3231 | Metabolites: 2085 | Max Growth: 1.44 1/h\n"
     ]
    }
   ],
   "source": [
    "for genus, model in models.items():\n",
    "    max_bio = model.slim_optimize()\n",
    "    print(f\"{genus}\")\n",
    "    print(f\"Reactions: {len(model.reactions)} | Metabolites: {len(model.metabolites)} | Max Growth: {max_bio:.2f} 1/h\")"
   ]
  }
 ],
 "metadata": {
  "kernelspec": {
   "display_name": "phycogem",
   "language": "python",
   "name": "python3"
  },
  "language_info": {
   "codemirror_mode": {
    "name": "ipython",
    "version": 3
   },
   "file_extension": ".py",
   "mimetype": "text/x-python",
   "name": "python",
   "nbconvert_exporter": "python",
   "pygments_lexer": "ipython3",
   "version": "3.11.4"
  },
  "orig_nbformat": 4
 },
 "nbformat": 4,
 "nbformat_minor": 2
}
